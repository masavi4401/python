{
  "nbformat": 4,
  "nbformat_minor": 0,
  "metadata": {
    "colab": {
      "name": "DAY 10",
      "version": "0.3.2",
      "provenance": [],
      "include_colab_link": true
    },
    "kernelspec": {
      "name": "python3",
      "display_name": "Python 3"
    }
  },
  "cells": [
    {
      "cell_type": "markdown",
      "metadata": {
        "id": "view-in-github",
        "colab_type": "text"
      },
      "source": [
        "<a href=\"https://colab.research.google.com/github/masavi4401/python/blob/master/DAY_10.ipynb\" target=\"_parent\"><img src=\"https://colab.research.google.com/assets/colab-badge.svg\" alt=\"Open In Colab\"/></a>"
      ]
    },
    {
      "cell_type": "markdown",
      "metadata": {
        "id": "SKDiwOH5NvQP",
        "colab_type": "text"
      },
      "source": [
        "File Handling in Python\n",
        "File:- Document containing information residing on the permanent storage types -- Doc, Pdf, Text, Csv Files and etc..\n",
        "File I/O: Input and Output Keyboard as input\n",
        "\n",
        "             Screen as output\n",
        "\n",
        "             Read/Write\n",
        "\n",
        "             open() -- Open the file\n",
        "             close() -- Close the file\n",
        "\n",
        "             open(filename,'Mode of the file')\n",
        "'r' -- It opens file for reading 'w' -- The mode open the file writing If the file name is not present,\n",
        "\n"
      ]
    },
    {
      "cell_type": "code",
      "metadata": {
        "id": "C6aWiKgJHEOK",
        "colab_type": "code",
        "outputId": "9648b252-5c2d-4e8c-f20f-506025e7e3f0",
        "colab": {
          "base_uri": "https://localhost:8080/",
          "height": 34
        }
      },
      "source": [
        "#function for creating a file\n",
        "def createfile(filename):\n",
        "    f=open(filename,\"w\")\n",
        "    for i in range(5):\n",
        "        f.write(\"This is %d line\\n\"%i)\n",
        "    print(\"file is created and data is written\")\n",
        "    f.close()\n",
        "    return\n",
        "createfile(\"file1.txt\")  \n",
        "    \n",
        "              \n"
      ],
      "execution_count": 0,
      "outputs": [
        {
          "output_type": "stream",
          "text": [
            "file is created and data is written\n"
          ],
          "name": "stdout"
        }
      ]
    },
    {
      "cell_type": "code",
      "metadata": {
        "id": "Nc-sOxlMNN1w",
        "colab_type": "code",
        "outputId": "df87f698-1fd0-4180-8e39-3798ee0f1677",
        "colab": {
          "base_uri": "https://localhost:8080/",
          "height": 119
        }
      },
      "source": [
        "#Function reading the file data\n",
        "def readfile(filename):\n",
        "  f=open(filename,'r')\n",
        "  if f.mode == 'r':\n",
        "    x=f.read()\n",
        "    print(x)\n",
        "  f.close()\n",
        "  return\n",
        "readfile('file1.txt')\n"
      ],
      "execution_count": 0,
      "outputs": [
        {
          "output_type": "stream",
          "text": [
            "This is 0 line\n",
            "This is 1 line\n",
            "This is 2 line\n",
            "This is 3 line\n",
            "This is 4 line\n",
            "\n"
          ],
          "name": "stdout"
        }
      ]
    },
    {
      "cell_type": "code",
      "metadata": {
        "id": "XUufg5XsXEIZ",
        "colab_type": "code",
        "outputId": "885d6026-877a-4d26-b3e7-09ccf71d3236",
        "colab": {
          "base_uri": "https://localhost:8080/",
          "height": 34
        }
      },
      "source": [
        "def createfile(filename):\n",
        "  f=open(filename,'w')\n",
        "  for i in range(10):\n",
        "    f.write('Test %d Line\\n' % i)\n",
        "  print('File is created successfully and Data is written')\n",
        "  f.close()\n",
        "  return\n",
        "createfile('file1.txt')"
      ],
      "execution_count": 0,
      "outputs": [
        {
          "output_type": "stream",
          "text": [
            "File is created successfully and Data is written\n"
          ],
          "name": "stdout"
        }
      ]
    },
    {
      "cell_type": "code",
      "metadata": {
        "id": "c-JLJAofZR0a",
        "colab_type": "code",
        "outputId": "2cb0d197-a753-44f4-c149-f3508a416bd7",
        "colab": {
          "base_uri": "https://localhost:8080/",
          "height": 187
        }
      },
      "source": [
        "cat file1.txt"
      ],
      "execution_count": 0,
      "outputs": [
        {
          "output_type": "stream",
          "text": [
            "Test 0 Line\n",
            "Test 1 Line\n",
            "Test 2 Line\n",
            "Test 3 Line\n",
            "Test 4 Line\n",
            "Test 5 Line\n",
            "Test 6 Line\n",
            "Test 7 Line\n",
            "Test 8 Line\n",
            "Test 9 Line\n"
          ],
          "name": "stdout"
        }
      ]
    },
    {
      "cell_type": "code",
      "metadata": {
        "id": "yJ16oHXsZYS5",
        "colab_type": "code",
        "colab": {}
      },
      "source": [
        "#Data to append\n",
        "#Functions to append the data to existing file\n",
        "def appenddata(filename):\n",
        "  f=open(filename,'a')\n",
        "  f.write('New line 1\\n')\n",
        "  f.write('New line')\n",
        "  f.close\n",
        "  return\n",
        "appenddata('file1.txt')"
      ],
      "execution_count": 0,
      "outputs": []
    },
    {
      "cell_type": "code",
      "metadata": {
        "id": "HRZ6gIEuZaF7",
        "colab_type": "code",
        "outputId": "838e4640-8484-4ec9-c252-83524e2157ee",
        "colab": {
          "base_uri": "https://localhost:8080/",
          "height": 221
        }
      },
      "source": [
        "cat file1.txt"
      ],
      "execution_count": 0,
      "outputs": [
        {
          "output_type": "stream",
          "text": [
            "Test 0 Line\n",
            "Test 1 Line\n",
            "Test 2 Line\n",
            "Test 3 Line\n",
            "Test 4 Line\n",
            "Test 5 Line\n",
            "Test 6 Line\n",
            "Test 7 Line\n",
            "Test 8 Line\n",
            "Test 9 Line\n",
            "New line 1\n",
            "New line"
          ],
          "name": "stdout"
        }
      ]
    },
    {
      "cell_type": "code",
      "metadata": {
        "id": "KMPY-fRoh8Va",
        "colab_type": "code",
        "outputId": "7f91ba1f-135f-4e11-af3c-4125c65cbc7e",
        "colab": {
          "base_uri": "https://localhost:8080/",
          "height": 34
        }
      },
      "source": [
        "#word count using file I/O Python\n",
        "def dataanalysiswordcount(filename,word):\n",
        "  f=open(filename,'r')\n",
        "  if f.mode == 'r':\n",
        "    x=f.read()\n",
        "    lst=x.split()\n",
        "  cnt=lst.count(word)\n",
        "  return cnt\n",
        "print(dataanalysiswordcount('file1.txt','line'))"
      ],
      "execution_count": 0,
      "outputs": [
        {
          "output_type": "stream",
          "text": [
            "2\n"
          ],
          "name": "stdout"
        }
      ]
    },
    {
      "cell_type": "code",
      "metadata": {
        "id": "iUq880Viiows",
        "colab_type": "code",
        "outputId": "9feb63f4-5937-43ff-b061-2a2893ae87dc",
        "colab": {
          "base_uri": "https://localhost:8080/",
          "height": 34
        }
      },
      "source": [
        "#Function to count of characters in the file\n",
        "def countcharacter(filename):\n",
        "  f=open(filename,'r')\n",
        "  if f.mode=='r':\n",
        "    x=f.read()\n",
        "    lst=list(x)\n",
        "  return len(lst)\n",
        "print(countcharacter('file1.txt'))"
      ],
      "execution_count": 0,
      "outputs": [
        {
          "output_type": "stream",
          "text": [
            "139\n"
          ],
          "name": "stdout"
        }
      ]
    },
    {
      "cell_type": "code",
      "metadata": {
        "id": "8SOrP5rMmflb",
        "colab_type": "code",
        "outputId": "96a5430c-99bf-433b-dfbe-d025ba5781bc",
        "colab": {
          "base_uri": "https://localhost:8080/",
          "height": 34
        }
      },
      "source": [
        "#Function to count the upper case character count from the given file\n",
        "def uppercasecount(filename):\n",
        "  cntupper=0\n",
        "  f=open(filename,'r')\n",
        "  if f.mode == 'r':\n",
        "    x=f.read()\n",
        "    lst=list(x)\n",
        "    for i in lst:\n",
        "      if i.isupper():\n",
        "        cntupper +=1\n",
        "  return cntupper\n",
        "uppercasecount('file1.txt')"
      ],
      "execution_count": 0,
      "outputs": [
        {
          "output_type": "execute_result",
          "data": {
            "text/plain": [
              "22"
            ]
          },
          "metadata": {
            "tags": []
          },
          "execution_count": 16
        }
      ]
    },
    {
      "cell_type": "code",
      "metadata": {
        "id": "LmBjInQRqZII",
        "colab_type": "code",
        "outputId": "bc5b3812-84c8-4ab1-dd97-5021cf2609c8",
        "colab": {
          "base_uri": "https://localhost:8080/",
          "height": 34
        }
      },
      "source": [
        "#Function to count of lines in the given file\n",
        "def countlines(filename):\n",
        "  f=open(filename,'r')\n",
        "  if f.mode == 'r':\n",
        "    x=f.read()\n",
        "    lst=x.split('\\n')\n",
        "  return(len(lst))\n",
        "countlines('file1.txt')  "
      ],
      "execution_count": 0,
      "outputs": [
        {
          "output_type": "execute_result",
          "data": {
            "text/plain": [
              "12"
            ]
          },
          "metadata": {
            "tags": []
          },
          "execution_count": 19
        }
      ]
    },
    {
      "cell_type": "markdown",
      "metadata": {
        "id": "Ka7l29hJMF99",
        "colab_type": "text"
      },
      "source": [
        "Regular Expressions\n",
        "Pattern Matching\n",
        "\n",
        "Symbolic Notation of a pattern\n",
        "\n",
        "Pattern(RE) represents the set of the values that a given pattern\n",
        "[0-9] --> Any Digit\n",
        "\n",
        "[a-z] --> Any lower case characters\n",
        "\n",
        "[A-Z] --> Any upper case characters\n",
        "\n",
        "[2468] --> Any single digit multiples of 2\n",
        "\n",
        "^[0-9] --> Only single digit number\n",
        "\n",
        "^ symbol is used for start of regular expression\n",
        "$ symbol is used for end of regular expression\n",
        "^[0-9]{3}$ --> Regular Expression which will accept only 3 digit number\n",
        "\n",
        "^[a-z]{5}$ --> It only accepts the 5 character string that to lower case characters\n",
        "\n",
        "^[a-zA-Z]{6}$ --> A string can be a upper / lower case chars and len of 6\n",
        "\n",
        "^[a-zA-Z]{6-15}$ --> A string min of 6 characters and max of 15 characters(upper and lower case chars)\n",
        "\n",
        "^[a-zA-Z0-9]{6-15}$ --> Upper, lower and digits\n",
        "\n",
        "^[6-9][0-9]{9}$ --> RE for Indian Mobile Number\n",
        "\n",
        "^[0][6-9][0-9]{9}$ -->RE for Indian Mobile Number\n",
        "\n",
        "^[+][9][1][6-9][0-9]{9}$ -->RE for Indian Mobile Number"
      ]
    },
    {
      "cell_type": "code",
      "metadata": {
        "id": "bkUFdvb8MSEy",
        "colab_type": "code",
        "colab": {}
      },
      "source": [
        "# Regular Expression for Indian Mobile Number\n",
        "\n",
        "# Validation for EmailID username@domainname.extension\n",
        "\n",
        "#9876543210 -- First digit [6-9][0-9]\n",
        "\n",
        "#09876543210 -- First Digit Zero second digit[6-9] LAst nine digits[0-9] \n",
        "\n",
        "#+919876543210 -- First + sign, Second digit 9, third digit 1, fourth digit [6-9] and rest of the digits [0-9]"
      ],
      "execution_count": 0,
      "outputs": []
    },
    {
      "cell_type": "code",
      "metadata": {
        "id": "tVXFpT2wMWzK",
        "colab_type": "code",
        "outputId": "ef340632-54bd-4e1d-964e-353e6556ed54",
        "colab": {
          "base_uri": "https://localhost:8080/",
          "height": 51
        }
      },
      "source": [
        "import re\n",
        "def phonenumbervalidate(phone):\n",
        "  pattern='^[6-9][0-9]{9}$|^[0][6-9][0-9]{9}$|^[+][9][1][6-9][0-9]{9}$'\n",
        "  phone=str(phone)\n",
        "  if re.match(pattern,phone):\n",
        "    return True\n",
        "  return False\n",
        "print(phonenumbervalidate(9545246472))\n",
        "print(phonenumbervalidate(9454845))"
      ],
      "execution_count": 0,
      "outputs": [
        {
          "output_type": "stream",
          "text": [
            "True\n",
            "False\n"
          ],
          "name": "stdout"
        }
      ]
    },
    {
      "cell_type": "code",
      "metadata": {
        "id": "SM4oKBpmMdlR",
        "colab_type": "code",
        "outputId": "9e7222ed-8dbd-4956-c6c9-f10aa227c7fd",
        "colab": {
          "base_uri": "https://localhost:8080/",
          "height": 51
        }
      },
      "source": [
        "import re\n",
        "def phonenumbervalidate(phone):\n",
        "  pattern='^[0][6-9][0-9]{9}$'\n",
        "  phone=str(phone)\n",
        "  if re.match(pattern,phone):\n",
        "    return True\n",
        "  return False\n",
        "print(phonenumbervalidate(+9490418894))\n",
        "print(phonenumbervalidate(9454845))"
      ],
      "execution_count": 0,
      "outputs": [
        {
          "output_type": "stream",
          "text": [
            "False\n",
            "False\n"
          ],
          "name": "stdout"
        }
      ]
    },
    {
      "cell_type": "code",
      "metadata": {
        "id": "Ab3yZSDpNQbF",
        "colab_type": "code",
        "outputId": "a5c9cdb4-63b4-4de0-f8ce-197ada906846",
        "colab": {
          "base_uri": "https://localhost:8080/",
          "height": 85
        }
      },
      "source": [
        "import re\n",
        "def phonenumbervalidate(phone):\n",
        "  pattern='^[6-9][0-9]{9}$|^[0][6-9][0-9]{9}$|^[+][9][1][6-9][0-9]{9}$'\n",
        "  phone=str(phone)\n",
        "  if re.match(pattern,phone):\n",
        "    return True\n",
        "  return False\n",
        "print(phonenumbervalidate('9545246472'))\n",
        "print(phonenumbervalidate('9454845'))\n",
        "print(phonenumbervalidate('08451463549'))\n",
        "print(phonenumbervalidate('+919845146284'))"
      ],
      "execution_count": 0,
      "outputs": [
        {
          "output_type": "stream",
          "text": [
            "True\n",
            "False\n",
            "True\n",
            "True\n"
          ],
          "name": "stdout"
        }
      ]
    },
    {
      "cell_type": "code",
      "metadata": {
        "id": "hdjio-O6PkvD",
        "colab_type": "code",
        "outputId": "36ff27db-08a9-4dc5-ee7f-bb091a278dbf",
        "colab": {
          "base_uri": "https://localhost:8080/",
          "height": 51
        }
      },
      "source": [
        "# RE -- Validation of Roll Number\n",
        "#152U1A0501\n",
        "def validaterollnumber(number):\n",
        "  number=str(number)\n",
        "  pattern='^[1][5][2][U][1][A][0][1-9][0-6][0-9]$'\n",
        "  if re.match(pattern,number):\n",
        "    return True\n",
        "  return False\n",
        "print(validaterollnumber(\"152U1A0555\"))\n",
        "print(validaterollnumber(\"152U1A0485\"))"
      ],
      "execution_count": 0,
      "outputs": [
        {
          "output_type": "stream",
          "text": [
            "True\n",
            "False\n"
          ],
          "name": "stdout"
        }
      ]
    },
    {
      "cell_type": "code",
      "metadata": {
        "id": "_IAsOYo_RptI",
        "colab_type": "code",
        "outputId": "62f1b4d1-4844-4664-cfdb-d9522b80e153",
        "colab": {
          "base_uri": "https://localhost:8080/",
          "height": 51
        }
      },
      "source": [
        "# Validation for EmailID username@domainname.extension\n",
        "import re\n",
        "def validateemailid(email):\n",
        "  pattern='^[0-9a-z][0-9a-z._]{4,13}[0-9a-z][@][a-z0-9]{3,18}[.][a-z]{2,4}$'\n",
        "  if re.match(pattern,email):\n",
        "    return True\n",
        "  return False\n",
        "print(validateemailid('masavi2001@gmail.com'))\n",
        "print(validateemailid('MASAVI2001@gmail.com'))"
      ],
      "execution_count": 0,
      "outputs": [
        {
          "output_type": "stream",
          "text": [
            "True\n",
            "False\n"
          ],
          "name": "stdout"
        }
      ]
    },
    {
      "cell_type": "code",
      "metadata": {
        "id": "7kVFZzqJVQT4",
        "colab_type": "code",
        "outputId": "434da84b-8a44-4284-a2d3-9e1d4e6120f0",
        "colab": {
          "base_uri": "https://localhost:8080/",
          "height": 51
        }
      },
      "source": [
        "# Regular Expression -- Password\n",
        "# Parameters : [6-15]\n",
        "# Accept Lower case,Uppercase,spl symbols(@,%,#,!)\n",
        "import re \n",
        "def validatepassword(password):\n",
        "   pattern = \"^[a-zA-Z0-9!@#$]{6,15}$\"\n",
        "   if re.match(pattern,password):\n",
        "     return True\n",
        "   return False\n",
        "print(validatepassword('masavi@78#1'))\n",
        "print(validatepassword('MASAVI*79'))"
      ],
      "execution_count": 0,
      "outputs": [
        {
          "output_type": "stream",
          "text": [
            "True\n",
            "False\n"
          ],
          "name": "stdout"
        }
      ]
    },
    {
      "cell_type": "code",
      "metadata": {
        "id": "4FRz78iOmGIh",
        "colab_type": "code",
        "colab": {}
      },
      "source": [
        "Assignment\n",
        "1.File on the virtual machine or local machine\n",
        "2.Need to write the data to the file(Name, EmailID, Mobile Number)\n",
        "3.Need to return the count of lower case characters\n",
        "4.Need to return the count of digits\n",
        "5.Need to return th count of spl characters\n",
        "6.Need to create a file with these parametes name, EmailID, Mobile Number\n",
        "  Validate the EmailID\n",
        "  Validate the Mobile Number\n",
        "[ ]\n",
        "​\n"
      ],
      "execution_count": 0,
      "outputs": []
    },
    {
      "cell_type": "code",
      "metadata": {
        "id": "BGjZ2ua6m-cx",
        "colab_type": "code",
        "outputId": "2a9f7535-789f-4046-80f8-a0c5afc06666",
        "colab": {
          "base_uri": "https://localhost:8080/",
          "height": 316
        }
      },
      "source": [
        "#Function to count the LOWER case character count from the given file\n",
        "def lowercasecount(filename):\n",
        "  cntlower=0\n",
        "  f=open(filename,'r')\n",
        "  if f.mode == 'r':\n",
        "    x=f.read()\n",
        "    lst=list(x)\n",
        "    for i in lst:\n",
        "      if i.islower():\n",
        "        cntlower +=1\n",
        "  return cntlower\n",
        "lowercasecount('file1.txt')"
      ],
      "execution_count": 0,
      "outputs": [
        {
          "output_type": "error",
          "ename": "FileNotFoundError",
          "evalue": "ignored",
          "traceback": [
            "\u001b[0;31m---------------------------------------------------------------------------\u001b[0m",
            "\u001b[0;31mFileNotFoundError\u001b[0m                         Traceback (most recent call last)",
            "\u001b[0;32m<ipython-input-26-48b89dccb83b>\u001b[0m in \u001b[0;36m<module>\u001b[0;34m()\u001b[0m\n\u001b[1;32m      9\u001b[0m         \u001b[0mcntlower\u001b[0m \u001b[0;34m+=\u001b[0m\u001b[0;36m1\u001b[0m\u001b[0;34m\u001b[0m\u001b[0;34m\u001b[0m\u001b[0m\n\u001b[1;32m     10\u001b[0m   \u001b[0;32mreturn\u001b[0m \u001b[0mcntlower\u001b[0m\u001b[0;34m\u001b[0m\u001b[0;34m\u001b[0m\u001b[0m\n\u001b[0;32m---> 11\u001b[0;31m \u001b[0mlowercasecount\u001b[0m\u001b[0;34m(\u001b[0m\u001b[0;34m'file1.txt'\u001b[0m\u001b[0;34m)\u001b[0m\u001b[0;34m\u001b[0m\u001b[0;34m\u001b[0m\u001b[0m\n\u001b[0m",
            "\u001b[0;32m<ipython-input-26-48b89dccb83b>\u001b[0m in \u001b[0;36mlowercasecount\u001b[0;34m(filename)\u001b[0m\n\u001b[1;32m      1\u001b[0m \u001b[0;32mdef\u001b[0m \u001b[0mlowercasecount\u001b[0m\u001b[0;34m(\u001b[0m\u001b[0mfilename\u001b[0m\u001b[0;34m)\u001b[0m\u001b[0;34m:\u001b[0m\u001b[0;34m\u001b[0m\u001b[0;34m\u001b[0m\u001b[0m\n\u001b[1;32m      2\u001b[0m   \u001b[0mcntlower\u001b[0m\u001b[0;34m=\u001b[0m\u001b[0;36m0\u001b[0m\u001b[0;34m\u001b[0m\u001b[0;34m\u001b[0m\u001b[0m\n\u001b[0;32m----> 3\u001b[0;31m   \u001b[0mf\u001b[0m\u001b[0;34m=\u001b[0m\u001b[0mopen\u001b[0m\u001b[0;34m(\u001b[0m\u001b[0mfilename\u001b[0m\u001b[0;34m,\u001b[0m\u001b[0;34m'r'\u001b[0m\u001b[0;34m)\u001b[0m\u001b[0;34m\u001b[0m\u001b[0;34m\u001b[0m\u001b[0m\n\u001b[0m\u001b[1;32m      4\u001b[0m   \u001b[0;32mif\u001b[0m \u001b[0mf\u001b[0m\u001b[0;34m.\u001b[0m\u001b[0mmode\u001b[0m \u001b[0;34m==\u001b[0m \u001b[0;34m'r'\u001b[0m\u001b[0;34m:\u001b[0m\u001b[0;34m\u001b[0m\u001b[0;34m\u001b[0m\u001b[0m\n\u001b[1;32m      5\u001b[0m     \u001b[0mx\u001b[0m\u001b[0;34m=\u001b[0m\u001b[0mf\u001b[0m\u001b[0;34m.\u001b[0m\u001b[0mread\u001b[0m\u001b[0;34m(\u001b[0m\u001b[0;34m)\u001b[0m\u001b[0;34m\u001b[0m\u001b[0;34m\u001b[0m\u001b[0m\n",
            "\u001b[0;31mFileNotFoundError\u001b[0m: [Errno 2] No such file or directory: 'file1.txt'"
          ]
        }
      ]
    }
  ]
}