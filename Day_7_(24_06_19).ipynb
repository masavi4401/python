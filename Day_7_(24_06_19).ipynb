{
  "nbformat": 4,
  "nbformat_minor": 0,
  "metadata": {
    "colab": {
      "name": "Day-7 (24-06-19).ipynb",
      "version": "0.3.2",
      "provenance": [],
      "include_colab_link": true
    },
    "language_info": {
      "codemirror_mode": {
        "name": "ipython",
        "version": 2
      },
      "file_extension": ".py",
      "mimetype": "text/x-python",
      "name": "python",
      "nbconvert_exporter": "python",
      "pygments_lexer": "ipython2",
      "version": "2.7.16"
    },
    "kernelspec": {
      "display_name": "Python 2",
      "language": "python",
      "name": "python2"
    }
  },
  "cells": [
    {
      "cell_type": "markdown",
      "metadata": {
        "id": "view-in-github",
        "colab_type": "text"
      },
      "source": [
        "<a href=\"https://colab.research.google.com/github/masavi4401/python/blob/master/Day_7_(24_06_19).ipynb\" target=\"_parent\"><img src=\"https://colab.research.google.com/assets/colab-badge.svg\" alt=\"Open In Colab\"/></a>"
      ]
    },
    {
      "cell_type": "markdown",
      "metadata": {
        "id": "gs5miJkNd964",
        "colab_type": "text"
      },
      "source": [
        "# EXAMPLE\n",
        "sum of even numbers\n"
      ]
    },
    {
      "cell_type": "code",
      "metadata": {
        "id": "iswycot6d968",
        "colab_type": "code",
        "colab": {},
        "outputId": "4b1f36c0-33f0-4c07-b3dc-4cb28ed7230d"
      },
      "source": [
        "def printeven(n):\n",
        "  cnt=0;\n",
        "  sum=0;\n",
        "  while(cnt!=n):\n",
        "    if(cnt%2==0):\n",
        "     sum=sum+cnt;\n",
        "    cnt=cnt+1;\n",
        "  return sum;\n",
        "print(printeven(20));"
      ],
      "execution_count": 0,
      "outputs": [
        {
          "output_type": "stream",
          "text": [
            "90\n"
          ],
          "name": "stdout"
        }
      ]
    },
    {
      "cell_type": "markdown",
      "metadata": {
        "id": "FxnWhPpJd97K",
        "colab_type": "text"
      },
      "source": [
        "# EXAMPLE\n",
        "Factors list of the given number"
      ]
    },
    {
      "cell_type": "code",
      "metadata": {
        "id": "LWqB2VLQd97L",
        "colab_type": "code",
        "colab": {},
        "outputId": "312ced61-1142-4a52-f0e2-b6111eacd370"
      },
      "source": [
        "def factorsList(n):\n",
        "    i = 1;\n",
        "    while(i!=n):\n",
        "        if(n%i==0):\n",
        "            print(i);\n",
        "        i = i + 1;\n",
        "    return;\n",
        "\n",
        "factorsList(12);"
      ],
      "execution_count": 0,
      "outputs": [
        {
          "output_type": "stream",
          "text": [
            "1\n",
            "2\n",
            "3\n",
            "4\n",
            "6\n"
          ],
          "name": "stdout"
        }
      ]
    },
    {
      "cell_type": "markdown",
      "metadata": {
        "id": "fAwOG3F3d97Q",
        "colab_type": "text"
      },
      "source": [
        "# EXAMPLE\n",
        "List in python"
      ]
    },
    {
      "cell_type": "code",
      "metadata": {
        "id": "q-Uh_tjOd97R",
        "colab_type": "code",
        "colab": {},
        "outputId": "85121629-5d16-4d2e-efd6-4d88c54f7124"
      },
      "source": [
        "list1=[1,2,3,4,5];\n",
        "#Entire list\n",
        "print(list1);\n",
        "#List[0]\n",
        "print(list1[0])"
      ],
      "execution_count": 0,
      "outputs": [
        {
          "output_type": "stream",
          "text": [
            "[1, 2, 3, 4, 5]\n",
            "1\n"
          ],
          "name": "stdout"
        }
      ]
    },
    {
      "cell_type": "markdown",
      "metadata": {
        "id": "oC1IaOpqd97U",
        "colab_type": "raw"
      },
      "source": [
        "LIST USING FOR LOOP\n"
      ]
    },
    {
      "cell_type": "code",
      "metadata": {
        "id": "YiVtbdQcd97V",
        "colab_type": "code",
        "colab": {},
        "outputId": "f7e84aab-3f07-4b43-92bd-450b6ae965b9"
      },
      "source": [
        "list2=[\"akki\",\"arvi\",\"ani\",\"akas\"];\n",
        "for x in list2:\n",
        "  print(x);"
      ],
      "execution_count": 0,
      "outputs": [
        {
          "output_type": "stream",
          "text": [
            "akki\n",
            "arvi\n",
            "ani\n",
            "akas\n"
          ],
          "name": "stdout"
        }
      ]
    },
    {
      "cell_type": "code",
      "metadata": {
        "id": "ONTEEvz3d97Z",
        "colab_type": "code",
        "colab": {},
        "outputId": "846a89c8-9fcf-44b4-b278-9b40dad0f873"
      },
      "source": [
        "#List example with particular index\n",
        "lst1=[1,2,3,4,5,6,7]\n",
        "for x in lst1:\n",
        "  print(x)\n",
        "print();\n",
        "print(lst1[4]);\n",
        "print(lst1[3:7]);\n",
        "print(lst1[0:3]);\n",
        "print(lst1[:3]);\n",
        "print(lst1[:7]);"
      ],
      "execution_count": 0,
      "outputs": [
        {
          "output_type": "stream",
          "text": [
            "1\n",
            "2\n",
            "3\n",
            "4\n",
            "5\n",
            "6\n",
            "7\n",
            "()\n",
            "5\n",
            "[4, 5, 6, 7]\n",
            "[1, 2, 3]\n",
            "[1, 2, 3]\n",
            "[1, 2, 3, 4, 5, 6, 7]\n"
          ],
          "name": "stdout"
        }
      ]
    },
    {
      "cell_type": "code",
      "metadata": {
        "id": "s_SeDKnld97d",
        "colab_type": "code",
        "colab": {},
        "outputId": "b9afe2eb-e903-41c7-e3fe-6eedad2b5a61"
      },
      "source": [
        "lst1=[1,2,3,4,5,6,7,8,9,10]\n",
        "for x in lst1:\n",
        "  print(x)\n",
        "print();\n",
        "print(lst1[1:-1]);\n",
        "print(lst1[2:-2]);\n",
        "print(lst1[::2]);\n",
        "print(lst1[::3]);\n",
        "print(lst1[::-2]);\n",
        "print(lst1[::4]);"
      ],
      "execution_count": 0,
      "outputs": [
        {
          "output_type": "stream",
          "text": [
            "1\n",
            "2\n",
            "3\n",
            "4\n",
            "5\n",
            "6\n",
            "7\n",
            "8\n",
            "9\n",
            "10\n",
            "()\n",
            "[2, 3, 4, 5, 6, 7, 8, 9]\n",
            "[3, 4, 5, 6, 7, 8]\n",
            "[1, 3, 5, 7, 9]\n",
            "[1, 4, 7, 10]\n",
            "[10, 8, 6, 4, 2]\n",
            "[1, 5, 9]\n"
          ],
          "name": "stdout"
        }
      ]
    },
    {
      "cell_type": "code",
      "metadata": {
        "id": "Jg7nU6w9d97j",
        "colab_type": "code",
        "colab": {}
      },
      "source": [
        ""
      ],
      "execution_count": 0,
      "outputs": []
    },
    {
      "cell_type": "code",
      "metadata": {
        "id": "CTqGGV2Md97l",
        "colab_type": "code",
        "colab": {}
      },
      "source": [
        ""
      ],
      "execution_count": 0,
      "outputs": []
    }
  ]
}