{
  "nbformat": 4,
  "nbformat_minor": 0,
  "metadata": {
    "colab": {
      "name": "Copy of Copy of 28-06-19",
      "version": "0.3.2",
      "provenance": [],
      "include_colab_link": true
    },
    "kernelspec": {
      "name": "python3",
      "display_name": "Python 3"
    }
  },
  "cells": [
    {
      "cell_type": "markdown",
      "metadata": {
        "id": "view-in-github",
        "colab_type": "text"
      },
      "source": [
        "<a href=\"https://colab.research.google.com/github/masavi4401/python/blob/master/Copy_of_Copy_of_28_06_19.ipynb\" target=\"_parent\"><img src=\"https://colab.research.google.com/assets/colab-badge.svg\" alt=\"Open In Colab\"/></a>"
      ]
    },
    {
      "cell_type": "markdown",
      "metadata": {
        "id": "cPD5m4WpXs6K",
        "colab_type": "text"
      },
      "source": [
        "Introduction to Object Oriented Programming (OOP) in Python"
      ]
    },
    {
      "cell_type": "code",
      "metadata": {
        "id": "qptmRWlFWYRI",
        "colab_type": "code",
        "colab": {}
      },
      "source": [
        "class classname:\n",
        "  # some functions and variables\n",
        "  # function -- used to perform the specific activity\n",
        "  # variables -- Data(memory)"
      ],
      "execution_count": 0,
      "outputs": []
    },
    {
      "cell_type": "code",
      "metadata": {
        "id": "LKkYUjw_8Lrx",
        "colab_type": "code",
        "outputId": "12e68e37-8c87-429e-aa19-aa18f1106621",
        "colab": {
          "base_uri": "https://localhost:8080/",
          "height": 34
        }
      },
      "source": [
        "def test():\n",
        "  print('Test() for function')\n",
        "  return\n",
        "test()"
      ],
      "execution_count": 0,
      "outputs": [
        {
          "output_type": "stream",
          "text": [
            "Test() for function\n"
          ],
          "name": "stdout"
        }
      ]
    },
    {
      "cell_type": "code",
      "metadata": {
        "id": "f52MxUoR8rBP",
        "colab_type": "code",
        "outputId": "ec11e3af-b0b8-42d4-c48d-16f5fbbe11f3",
        "colab": {
          "base_uri": "https://localhost:8080/",
          "height": 34
        }
      },
      "source": [
        "class demo:\n",
        "  def test(self):\n",
        "    print('test() for the class and method')\n",
        "    return\n",
        "obj=demo() #object creation\n",
        "obj.test() #call for the method"
      ],
      "execution_count": 0,
      "outputs": [
        {
          "output_type": "stream",
          "text": [
            "test() for the class and method\n"
          ],
          "name": "stdout"
        }
      ]
    },
    {
      "cell_type": "code",
      "metadata": {
        "id": "GRTXJ6uk8zvZ",
        "colab_type": "code",
        "outputId": "9274f65a-9f24-4f81-ecef-396f7f623675",
        "colab": {
          "base_uri": "https://localhost:8080/",
          "height": 34
        }
      },
      "source": [
        "class demo1:\n",
        "  def fact(self,n):\n",
        "    fact=1\n",
        "    while(n!=0):\n",
        "      fact=fact*n\n",
        "      n=n-1\n",
        "    return fact\n",
        "p1=demo1()\n",
        "print(p1.fact(5))"
      ],
      "execution_count": 0,
      "outputs": [
        {
          "output_type": "stream",
          "text": [
            "120\n"
          ],
          "name": "stdout"
        }
      ]
    },
    {
      "cell_type": "code",
      "metadata": {
        "id": "Q7X5sx5t89Yi",
        "colab_type": "code",
        "colab": {}
      },
      "source": [
        "# Method\n",
        "# def test(self,para1,para2)"
      ],
      "execution_count": 0,
      "outputs": []
    },
    {
      "cell_type": "code",
      "metadata": {
        "id": "jWwm9BS58-gU",
        "colab_type": "code",
        "outputId": "2f509ed1-f7e0-448c-ecbe-5653f0c6a2f3",
        "colab": {
          "base_uri": "https://localhost:8080/",
          "height": 34
        }
      },
      "source": [
        "class demo2:\n",
        "  def __init__(self,p1,p2):\n",
        "    self.p1=p1\n",
        "    self.p2=p2\n",
        "  def add(self,p1,p2):\n",
        "    return p1 + p2\n",
        "c1=demo2(10,20)\n",
        "print(c1.add(100,200))"
      ],
      "execution_count": 0,
      "outputs": [
        {
          "output_type": "stream",
          "text": [
            "300\n"
          ],
          "name": "stdout"
        }
      ]
    },
    {
      "cell_type": "code",
      "metadata": {
        "id": "woXpTM_49ThF",
        "colab_type": "code",
        "outputId": "fa6eb953-2e03-4cd2-de47-9e0586d342d6",
        "colab": {
          "base_uri": "https://localhost:8080/",
          "height": 34
        }
      },
      "source": [
        "lst =[1,2,3,4]\n",
        "print(lst)"
      ],
      "execution_count": 0,
      "outputs": [
        {
          "output_type": "stream",
          "text": [
            "[1, 2, 3, 4]\n"
          ],
          "name": "stdout"
        }
      ]
    },
    {
      "cell_type": "code",
      "metadata": {
        "id": "IRQkUcpd9Yc2",
        "colab_type": "code",
        "outputId": "27347904-27cf-4f2d-b675-d97cb548e735",
        "colab": {
          "base_uri": "https://localhost:8080/",
          "height": 34
        }
      },
      "source": [
        "import numpy as np\n",
        "lst=[1,2,3,4]\n",
        "array=np.array(lst)\n",
        "print(array)"
      ],
      "execution_count": 0,
      "outputs": [
        {
          "output_type": "stream",
          "text": [
            "[1 2 3 4]\n"
          ],
          "name": "stdout"
        }
      ]
    },
    {
      "cell_type": "code",
      "metadata": {
        "id": "BblZoF159dA0",
        "colab_type": "code",
        "outputId": "8183c754-9526-4afa-9e85-883dba85d00c",
        "colab": {
          "base_uri": "https://localhost:8080/",
          "height": 50
        }
      },
      "source": [
        "lst=[1,2,3,4]\n",
        "array=np.array(lst)\n",
        "print(array.shape)\n",
        "print(array.dtype)"
      ],
      "execution_count": 0,
      "outputs": [
        {
          "output_type": "stream",
          "text": [
            "(4,)\n",
            "int64\n"
          ],
          "name": "stdout"
        }
      ]
    },
    {
      "cell_type": "code",
      "metadata": {
        "id": "eWrL5A1m9ftN",
        "colab_type": "code",
        "outputId": "513a59a7-d40f-4931-b948-86f6a3abb42b",
        "colab": {
          "base_uri": "https://localhost:8080/",
          "height": 50
        }
      },
      "source": [
        "lst=[1.0,2.5,3.6,9.5]\n",
        "array=np.array(lst)\n",
        "print(array.shape)\n",
        "print(array.dtype)"
      ],
      "execution_count": 0,
      "outputs": [
        {
          "output_type": "stream",
          "text": [
            "(4,)\n",
            "float64\n"
          ],
          "name": "stdout"
        }
      ]
    },
    {
      "cell_type": "code",
      "metadata": {
        "id": "Ai04hBKe99oc",
        "colab_type": "code",
        "outputId": "768f2616-a288-4686-b293-aa063ee25b36",
        "colab": {
          "base_uri": "https://localhost:8080/",
          "height": 50
        }
      },
      "source": [
        "a1 = np.array([(1,2,3),(4,5,6)])\n",
        "print(a1.shape)\n",
        "a2 = np.array([(1,2),(3,4),(5,6)])\n",
        "print(a2.shape)"
      ],
      "execution_count": 0,
      "outputs": [
        {
          "output_type": "stream",
          "text": [
            "(2, 3)\n",
            "(3, 2)\n"
          ],
          "name": "stdout"
        }
      ]
    },
    {
      "cell_type": "code",
      "metadata": {
        "id": "GZsIwT7C-I8O",
        "colab_type": "code",
        "outputId": "49dbaf1c-b0c8-42f3-ad76-519c8a3453af",
        "colab": {
          "base_uri": "https://localhost:8080/",
          "height": 101
        }
      },
      "source": [
        "#Re-shape the given array\n",
        "#numpy.reshape(arrayname,reshape,order='C')\n",
        "a1 = np.array([(1,2,3),(4,5,6)])\n",
        "print(a1)\n",
        "a1.reshape(3,2)"
      ],
      "execution_count": 0,
      "outputs": [
        {
          "output_type": "stream",
          "text": [
            "[[1 2 3]\n",
            " [4 5 6]]\n"
          ],
          "name": "stdout"
        },
        {
          "output_type": "execute_result",
          "data": {
            "text/plain": [
              "array([[1, 2],\n",
              "       [3, 4],\n",
              "       [5, 6]])"
            ]
          },
          "metadata": {
            "tags": []
          },
          "execution_count": 10
        }
      ]
    },
    {
      "cell_type": "code",
      "metadata": {
        "id": "dnI-4vRW-rE2",
        "colab_type": "code",
        "outputId": "d474ee2c-c1d9-4d09-81d6-c3ec26b90b60",
        "colab": {
          "base_uri": "https://localhost:8080/",
          "height": 34
        }
      },
      "source": [
        "#Append some data -- Horizontally\n",
        "#hstack(array1,array2) -- will be automatically arranged in horizontal\n",
        "a1=np.array([1,2,3])\n",
        "a2=np.array([4,5,6])\n",
        "print(np.hstack((a1,a2)))"
      ],
      "execution_count": 0,
      "outputs": [
        {
          "output_type": "stream",
          "text": [
            "[1 2 3 4 5 6]\n"
          ],
          "name": "stdout"
        }
      ]
    },
    {
      "cell_type": "code",
      "metadata": {
        "id": "6lpE8DJH-zEk",
        "colab_type": "code",
        "outputId": "b9740187-6b5a-411a-cdfd-220c1c977f43",
        "colab": {
          "base_uri": "https://localhost:8080/",
          "height": 50
        }
      },
      "source": [
        "#Append some data -- Vertical\n",
        "#vstack(array1,array2) -- will be automatically arranged in vertically\n",
        "a1=np.array([1,2,3])\n",
        "a2=np.array([4,5,6])\n",
        "print(np.vstack((a1,a2)))"
      ],
      "execution_count": 0,
      "outputs": [
        {
          "output_type": "stream",
          "text": [
            "[[1 2 3]\n",
            " [4 5 6]]\n"
          ],
          "name": "stdout"
        }
      ]
    },
    {
      "cell_type": "code",
      "metadata": {
        "id": "5IiyQxea_CpV",
        "colab_type": "code",
        "outputId": "7fafc657-47ab-42bd-e232-6bd4b481a828",
        "colab": {
          "base_uri": "https://localhost:8080/",
          "height": 50
        }
      },
      "source": [
        "#Generate random numbers from NP\n",
        "a1=np.random.normal(5,0.5,10)\n",
        "print(a1)"
      ],
      "execution_count": 0,
      "outputs": [
        {
          "output_type": "stream",
          "text": [
            "[5.17106054 4.73143935 4.90916771 4.46983327 4.54596601 5.01498003\n",
            " 4.86573491 4.89923267 4.75908664 5.43501466]\n"
          ],
          "name": "stdout"
        }
      ]
    },
    {
      "cell_type": "code",
      "metadata": {
        "id": "uo0eJOPC_IlA",
        "colab_type": "code",
        "outputId": "24b58bdf-b093-441d-d0f1-09efe853660e",
        "colab": {
          "base_uri": "https://localhost:8080/",
          "height": 50
        }
      },
      "source": [
        "# numpy.zeros() and numpy.one()\n",
        "# Generate an array with all zeros -- numpy.zeros()\n",
        "# numpy.zeros(shape, dtype = float, order=\"C\")\n",
        "np.zeros((2,2))"
      ],
      "execution_count": 0,
      "outputs": [
        {
          "output_type": "execute_result",
          "data": {
            "text/plain": [
              "array([[0., 0.],\n",
              "       [0., 0.]])"
            ]
          },
          "metadata": {
            "tags": []
          },
          "execution_count": 14
        }
      ]
    },
    {
      "cell_type": "code",
      "metadata": {
        "id": "a64NkG5__Knm",
        "colab_type": "code",
        "outputId": "edbe46a7-eb7f-4bef-9a12-06b96f3c6721",
        "colab": {
          "base_uri": "https://localhost:8080/",
          "height": 50
        }
      },
      "source": [
        "np.zeros((2,2),dtype=np.int16)"
      ],
      "execution_count": 0,
      "outputs": [
        {
          "output_type": "execute_result",
          "data": {
            "text/plain": [
              "array([[0, 0],\n",
              "       [0, 0]], dtype=int16)"
            ]
          },
          "metadata": {
            "tags": []
          },
          "execution_count": 15
        }
      ]
    },
    {
      "cell_type": "code",
      "metadata": {
        "id": "0_ElK7VV_i5G",
        "colab_type": "code",
        "outputId": "9fcec808-f30e-44c6-a947-a40d1b6fbf12",
        "colab": {
          "base_uri": "https://localhost:8080/",
          "height": 84
        }
      },
      "source": [
        "#np.ones(shape,dtype=float,order='C')\n",
        "np.ones((4,3),dtype=np.int64)"
      ],
      "execution_count": 0,
      "outputs": [
        {
          "output_type": "execute_result",
          "data": {
            "text/plain": [
              "array([[1, 1, 1],\n",
              "       [1, 1, 1],\n",
              "       [1, 1, 1],\n",
              "       [1, 1, 1]])"
            ]
          },
          "metadata": {
            "tags": []
          },
          "execution_count": 16
        }
      ]
    },
    {
      "cell_type": "code",
      "metadata": {
        "id": "bxq7jq0f_yUz",
        "colab_type": "code",
        "outputId": "c0aeec81-780c-42f4-bbf1-159b2538da79",
        "colab": {
          "base_uri": "https://localhost:8080/",
          "height": 84
        }
      },
      "source": [
        "A=np.matrix(np.ones((4,4),dtype=np.int64))\n",
        "print(A)"
      ],
      "execution_count": 0,
      "outputs": [
        {
          "output_type": "stream",
          "text": [
            "[[1 1 1 1]\n",
            " [1 1 1 1]\n",
            " [1 1 1 1]\n",
            " [1 1 1 1]]\n"
          ],
          "name": "stdout"
        }
      ]
    },
    {
      "cell_type": "code",
      "metadata": {
        "id": "rLbAKspWAKf3",
        "colab_type": "code",
        "outputId": "eb8eb37b-4009-4cff-8b47-75b9adf5acc8",
        "colab": {
          "base_uri": "https://localhost:8080/",
          "height": 84
        }
      },
      "source": [
        "A=np.matrix(np.ones((4,4),dtype=np.int64))\n",
        "np.asarray(A)[2]=5\n",
        "print(A)"
      ],
      "execution_count": 0,
      "outputs": [
        {
          "output_type": "stream",
          "text": [
            "[[1 1 1 1]\n",
            " [1 1 1 1]\n",
            " [5 5 5 5]\n",
            " [1 1 1 1]]\n"
          ],
          "name": "stdout"
        }
      ]
    },
    {
      "cell_type": "code",
      "metadata": {
        "id": "fKpCu0JaApki",
        "colab_type": "code",
        "outputId": "e43b47bf-f48e-4520-f5c6-d0fe27f343c0",
        "colab": {
          "base_uri": "https://localhost:8080/",
          "height": 34
        }
      },
      "source": [
        "#arrange() -- particular\n",
        "#numpy.arrange(start,end,step)\n",
        "#start -- value\n",
        "#end -- value\n",
        "#step -- Gap between one value to another value\n",
        "import numpy as np\n",
        "np.arange(1,10)"
      ],
      "execution_count": 0,
      "outputs": [
        {
          "output_type": "execute_result",
          "data": {
            "text/plain": [
              "array([1, 2, 3, 4, 5, 6, 7, 8, 9])"
            ]
          },
          "metadata": {
            "tags": []
          },
          "execution_count": 21
        }
      ]
    },
    {
      "cell_type": "code",
      "metadata": {
        "id": "8wwlPkBUXOH4",
        "colab_type": "code",
        "outputId": "e9492e4e-a533-485f-9bf7-590c113bf7c8",
        "colab": {
          "base_uri": "https://localhost:8080/",
          "height": 34
        }
      },
      "source": [
        "np.arange(1,100,9)"
      ],
      "execution_count": 0,
      "outputs": [
        {
          "output_type": "execute_result",
          "data": {
            "text/plain": [
              "array([ 1, 10, 19, 28, 37, 46, 55, 64, 73, 82, 91])"
            ]
          },
          "metadata": {
            "tags": []
          },
          "execution_count": 23
        }
      ]
    },
    {
      "cell_type": "code",
      "metadata": {
        "id": "SpEhSfn7XQYE",
        "colab_type": "code",
        "outputId": "389c9c1c-04a8-471a-b5de-7d5633c82203",
        "colab": {
          "base_uri": "https://localhost:8080/",
          "height": 34
        }
      },
      "source": [
        "np.arange(2,20,2)\n",
        "np.arange(1,25,2)"
      ],
      "execution_count": 0,
      "outputs": [
        {
          "output_type": "execute_result",
          "data": {
            "text/plain": [
              "array([ 1,  3,  5,  7,  9, 11, 13, 15, 17, 19, 21, 23])"
            ]
          },
          "metadata": {
            "tags": []
          },
          "execution_count": 25
        }
      ]
    },
    {
      "cell_type": "code",
      "metadata": {
        "id": "JvGC5D5PXgfF",
        "colab_type": "code",
        "outputId": "e324956a-0aca-41fe-bd86-8fab0ee4b354",
        "colab": {
          "base_uri": "https://localhost:8080/",
          "height": 34
        }
      },
      "source": [
        "a1=np.array([(1,2,3),(4,5,6)])\n",
        "print('First Row: ',a1[1])"
      ],
      "execution_count": 0,
      "outputs": [
        {
          "output_type": "stream",
          "text": [
            "First Row:  [4 5 6]\n"
          ],
          "name": "stdout"
        }
      ]
    },
    {
      "cell_type": "code",
      "metadata": {
        "id": "RHyzzs_oXajg",
        "colab_type": "code",
        "outputId": "016d2e56-99c3-4b24-b1e3-d49725381a9b",
        "colab": {
          "base_uri": "https://localhost:8080/",
          "height": 50
        }
      },
      "source": [
        "# Indexing and Slicing of Numpy\n",
        "a1=np.array([(1,2,3),(4,5,6)])\n",
        "print(a1)"
      ],
      "execution_count": 0,
      "outputs": [
        {
          "output_type": "stream",
          "text": [
            "[[1 2 3]\n",
            " [4 5 6]]\n"
          ],
          "name": "stdout"
        }
      ]
    },
    {
      "cell_type": "code",
      "metadata": {
        "id": "d3DxJwXbXigS",
        "colab_type": "code",
        "outputId": "acf24a90-a293-4268-e68b-40fe1b5da618",
        "colab": {
          "base_uri": "https://localhost:8080/",
          "height": 34
        }
      },
      "source": [
        "a1=np.array([(1,2,3),(4,5,6)])\n",
        "print('Second Row: ',a1[1])"
      ],
      "execution_count": 0,
      "outputs": [
        {
          "output_type": "stream",
          "text": [
            "Second Row:  [4 5 6]\n"
          ],
          "name": "stdout"
        }
      ]
    },
    {
      "cell_type": "code",
      "metadata": {
        "id": "WlWbLys9Xqca",
        "colab_type": "code",
        "outputId": "59456690-bebd-41f7-ec23-15fd11078315",
        "colab": {
          "base_uri": "https://localhost:8080/",
          "height": 34
        }
      },
      "source": [
        "a1=np.array([(1,2,3),(4,5,6)])\n",
        "print('Slicing Column: ',a1[:,1])"
      ],
      "execution_count": 0,
      "outputs": [
        {
          "output_type": "stream",
          "text": [
            "Slicing Column:  [2 5]\n"
          ],
          "name": "stdout"
        }
      ]
    },
    {
      "cell_type": "code",
      "metadata": {
        "id": "AiqI7u8-XwB0",
        "colab_type": "code",
        "outputId": "3873e1de-7f22-4b0a-d07f-6279401b2fd6",
        "colab": {
          "base_uri": "https://localhost:8080/",
          "height": 34
        }
      },
      "source": [
        "a1=np.array([(1,2,3),(4,5,6)])\n",
        "print('Slicing Last Column: ',a1[:,2])"
      ],
      "execution_count": 0,
      "outputs": [
        {
          "output_type": "stream",
          "text": [
            "Slicing Last Column:  [3 6]\n"
          ],
          "name": "stdout"
        }
      ]
    },
    {
      "cell_type": "code",
      "metadata": {
        "id": "BPYNpjVSXzU3",
        "colab_type": "code",
        "outputId": "79c427c9-0f9e-48b6-b4d8-e78caa33dbeb",
        "colab": {
          "base_uri": "https://localhost:8080/",
          "height": 34
        }
      },
      "source": [
        "a1=np.array([(1,2,3),(4,5,6)])\n",
        "print('Row and Column',a1[1,:1])"
      ],
      "execution_count": 0,
      "outputs": [
        {
          "output_type": "stream",
          "text": [
            "Row and Column [4]\n"
          ],
          "name": "stdout"
        }
      ]
    },
    {
      "cell_type": "code",
      "metadata": {
        "id": "nlO8dmMFX7XS",
        "colab_type": "code",
        "outputId": "3ee398d8-c09c-4b24-d93e-0a9ff36514b9",
        "colab": {
          "base_uri": "https://localhost:8080/",
          "height": 118
        }
      },
      "source": [
        "# Some math Operation on given random numbers\n",
        "# Min    -- returns the least number\n",
        "# Max    -- returns the large number\n",
        "# Mean   -- Mean\n",
        "# Median -- Medium\n",
        "a1=np.random.normal(5,1,10)\n",
        "print(a1)\n",
        "print('Min value =',np.min(a1))\n",
        "print('Max value =',np.max(a1))\n",
        "print('Mean value =',np.mean(a1))\n",
        "print('Median value =',np.median(a1))"
      ],
      "execution_count": 0,
      "outputs": [
        {
          "output_type": "stream",
          "text": [
            "[6.17306332 4.86454457 4.794547   3.36199818 6.40967938 5.47253827\n",
            " 4.64398896 6.10899099 5.53632477 4.91628981]\n",
            "Min value = 3.361998175019009\n",
            "Max value = 6.409679377222382\n",
            "Mean value = 5.228196523456606\n",
            "Median value = 5.194414037807153\n"
          ],
          "name": "stdout"
        }
      ]
    },
    {
      "cell_type": "code",
      "metadata": {
        "id": "QeJ8fRSDYBVH",
        "colab_type": "code",
        "outputId": "8a64a8c4-dae0-40fd-9eee-904ad9ce89e5",
        "colab": {
          "base_uri": "https://localhost:8080/",
          "height": 34
        }
      },
      "source": [
        "# Multiplication of 1D arrays\n",
        "# numpy.dot(x,y) --\n",
        "c1=np.array([1,2])\n",
        "c2=np.array([4,5])\n",
        "np.dot(c1,c2)"
      ],
      "execution_count": 0,
      "outputs": [
        {
          "output_type": "execute_result",
          "data": {
            "text/plain": [
              "14"
            ]
          },
          "metadata": {
            "tags": []
          },
          "execution_count": 32
        }
      ]
    },
    {
      "cell_type": "code",
      "metadata": {
        "id": "sYsGOvbZYIof",
        "colab_type": "code",
        "outputId": "b064920d-1a91-4934-bbf1-8a48f98d2b6e",
        "colab": {
          "base_uri": "https://localhost:8080/",
          "height": 50
        }
      },
      "source": [
        "c1=np.array([(1,2),(3,4)])\n",
        "c2=np.array([(3,4),(1,2)])\n",
        "np.dot(c1,c2)"
      ],
      "execution_count": 0,
      "outputs": [
        {
          "output_type": "execute_result",
          "data": {
            "text/plain": [
              "array([[ 5,  8],\n",
              "       [13, 20]])"
            ]
          },
          "metadata": {
            "tags": []
          },
          "execution_count": 33
        }
      ]
    },
    {
      "cell_type": "code",
      "metadata": {
        "id": "03Gv81EPYMK0",
        "colab_type": "code",
        "outputId": "032571f1-547d-4f32-a396-fa53cdb5d7ec",
        "colab": {
          "base_uri": "https://localhost:8080/",
          "height": 50
        }
      },
      "source": [
        "b1=np.array([(1,5),(6,9)])\n",
        "b2=np.array([(1,3),(1,6)])\n",
        "np.matmul(b1,b2)"
      ],
      "execution_count": 0,
      "outputs": [
        {
          "output_type": "execute_result",
          "data": {
            "text/plain": [
              "array([[ 6, 33],\n",
              "       [15, 72]])"
            ]
          },
          "metadata": {
            "tags": []
          },
          "execution_count": 34
        }
      ]
    },
    {
      "cell_type": "markdown",
      "metadata": {
        "id": "9e6czG21ZARR",
        "colab_type": "text"
      },
      "source": [
        "###Pandas Basics"
      ]
    },
    {
      "cell_type": "code",
      "metadata": {
        "id": "Y6yPtakbYYCx",
        "colab_type": "code",
        "outputId": "db3fb1f3-2f82-44f2-d889-b66f46c0b2bd",
        "colab": {
          "base_uri": "https://localhost:8080/",
          "height": 68
        }
      },
      "source": [
        "import pandas as pd\n",
        "dict={'Name':['masavi','hethvi'],'EmailID':['masavi@gmail.com','hethvi@gmail.com'],'MobileNumber':['84854','65956'],'Address':\n",
        "     ['Hyd','Hyd']}\n",
        "b=pd.DataFrame(dict)\n",
        "print(b)"
      ],
      "execution_count": 1,
      "outputs": [
        {
          "output_type": "stream",
          "text": [
            "     Name           EmailID MobileNumber Address\n",
            "0  masavi  masavi@gmail.com        84854     Hyd\n",
            "1  hethvi  hethvi@gmail.com        65956     Hyd\n"
          ],
          "name": "stdout"
        }
      ]
    },
    {
      "cell_type": "code",
      "metadata": {
        "id": "-axKluIvZxnK",
        "colab_type": "code",
        "outputId": "4d4b4f3c-598f-4df1-b82a-801ea7c611d3",
        "colab": {
          "base_uri": "https://localhost:8080/",
          "height": 68
        }
      },
      "source": [
        "b.index=['01','02']\n",
        "print(b)"
      ],
      "execution_count": 2,
      "outputs": [
        {
          "output_type": "stream",
          "text": [
            "      Name           EmailID MobileNumber Address\n",
            "01  masavi  masavi@gmail.com        84854     Hyd\n",
            "02  hethvi  hethvi@gmail.com        65956     Hyd\n"
          ],
          "name": "stdout"
        }
      ]
    },
    {
      "cell_type": "code",
      "metadata": {
        "id": "3gqnZhuqZ45T",
        "colab_type": "code",
        "colab": {}
      },
      "source": [
        "# supermarket.csv -- Analysis (Which product having higher % of selling)\n",
        "# Which products having least selling %\n",
        "import pandas as pd\n",
        "products=pd.read_csv('FileName.csv')\n",
        "print(products)"
      ],
      "execution_count": 0,
      "outputs": []
    },
    {
      "cell_type": "code",
      "metadata": {
        "id": "W2HfWEVbZ5P0",
        "colab_type": "code",
        "colab": {}
      },
      "source": [
        "import pandas as pd\n",
        "product_sellingdata=pd.read_csv('FileName.csv',index_col=1)\n",
        "print(product_sellingdata)"
      ],
      "execution_count": 0,
      "outputs": []
    }
  ]
}