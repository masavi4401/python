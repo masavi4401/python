{
  "nbformat": 4,
  "nbformat_minor": 0,
  "metadata": {
    "colab": {
      "name": "day 6.m",
      "version": "0.3.2",
      "provenance": [],
      "collapsed_sections": [],
      "include_colab_link": true
    },
    "kernelspec": {
      "name": "python3",
      "display_name": "Python 3"
    }
  },
  "cells": [
    {
      "cell_type": "markdown",
      "metadata": {
        "id": "view-in-github",
        "colab_type": "text"
      },
      "source": [
        "<a href=\"https://colab.research.google.com/github/masavi4401/python/blob/master/day_6_m.ipynb\" target=\"_parent\"><img src=\"https://colab.research.google.com/assets/colab-badge.svg\" alt=\"Open In Colab\"/></a>"
      ]
    },
    {
      "cell_type": "code",
      "metadata": {
        "id": "eUk6c_asXPb7",
        "colab_type": "code",
        "colab": {}
      },
      "source": [
        "print(\"hello\")\n"
      ],
      "execution_count": 0,
      "outputs": []
    },
    {
      "cell_type": "markdown",
      "metadata": {
        "id": "BcT4cWA7YFyM",
        "colab_type": "text"
      },
      "source": [
        "example 1:"
      ]
    },
    {
      "cell_type": "code",
      "metadata": {
        "id": "S26uou1BXtIE",
        "colab_type": "code",
        "colab": {}
      },
      "source": [
        "x=10;\n",
        "if(x<15):\n",
        " print(\"num is less than 15\")"
      ],
      "execution_count": 0,
      "outputs": []
    },
    {
      "cell_type": "markdown",
      "metadata": {
        "id": "YLoEsVvKYVPc",
        "colab_type": "text"
      },
      "source": [
        "example 2:"
      ]
    },
    {
      "cell_type": "code",
      "metadata": {
        "id": "Un309aMfYYfr",
        "colab_type": "code",
        "colab": {}
      },
      "source": [
        "x=10;\n",
        "if(x>15):\n",
        "  print('hello');\n",
        "else:\n",
        "  print('byee');\n",
        "  "
      ],
      "execution_count": 0,
      "outputs": []
    },
    {
      "cell_type": "markdown",
      "metadata": {
        "id": "E8N5Uj99boBI",
        "colab_type": "text"
      },
      "source": [
        "example 4:\n"
      ]
    },
    {
      "cell_type": "code",
      "metadata": {
        "id": "wqgedV2AbwmE",
        "colab_type": "code",
        "colab": {}
      },
      "source": [
        "x=10;\n",
        "y=15;\n",
        "if(x>y):\n",
        "  print('x is greater');\n",
        "if(y>x):\n",
        "  print('y is greater');"
      ],
      "execution_count": 0,
      "outputs": []
    },
    {
      "cell_type": "markdown",
      "metadata": {
        "id": "MdTcy7Gkdpvb",
        "colab_type": "text"
      },
      "source": [
        "example 5:"
      ]
    },
    {
      "cell_type": "code",
      "metadata": {
        "id": "Qpr3Hd62duw6",
        "colab_type": "code",
        "colab": {}
      },
      "source": [
        " x=10\n",
        " y=10\n",
        " if(x==y):\n",
        "    print(x*x);\n",
        " else:\n",
        "  print(x*y);"
      ],
      "execution_count": 0,
      "outputs": []
    },
    {
      "cell_type": "markdown",
      "metadata": {
        "id": "642Cbm0Mf57H",
        "colab_type": "text"
      },
      "source": [
        "example 6:"
      ]
    },
    {
      "cell_type": "code",
      "metadata": {
        "id": "p3Pv2gvVf-aO",
        "colab_type": "code",
        "colab": {}
      },
      "source": [
        "x=-1\n",
        "if(x<0):\n",
        "  print('negative');\n",
        "elif(x>0):\n",
        "  print('positive');\n",
        "elif('x=0'):\n",
        "  print('zero');\n",
        "\n"
      ],
      "execution_count": 0,
      "outputs": []
    },
    {
      "cell_type": "markdown",
      "metadata": {
        "id": "Nhk5_Zm-hjmh",
        "colab_type": "text"
      },
      "source": [
        "example 7:"
      ]
    },
    {
      "cell_type": "code",
      "metadata": {
        "id": "QICXFvKEhlvw",
        "colab_type": "code",
        "colab": {}
      },
      "source": [
        "n=1;\n",
        "while(n<=10):\n",
        "  print(n);\n",
        "  n=n+1;"
      ],
      "execution_count": 0,
      "outputs": []
    },
    {
      "cell_type": "markdown",
      "metadata": {
        "id": "rXt6XMrVlB8b",
        "colab_type": "text"
      },
      "source": [
        "example 8:"
      ]
    },
    {
      "cell_type": "code",
      "metadata": {
        "id": "Po-lTYoUlEVT",
        "colab_type": "code",
        "colab": {}
      },
      "source": [
        "n=10\n",
        "while(n>=1):\n",
        "  print(n);\n",
        "  n=n-1;"
      ],
      "execution_count": 0,
      "outputs": []
    },
    {
      "cell_type": "markdown",
      "metadata": {
        "id": "uDGQRLkal2_x",
        "colab_type": "text"
      },
      "source": [
        "example 9:"
      ]
    },
    {
      "cell_type": "code",
      "metadata": {
        "id": "TB0J93Uml4s6",
        "colab_type": "code",
        "colab": {}
      },
      "source": [
        "n=-22;\n",
        "while((n<=-22)&(n>=-45)):\n",
        "  print(n);\n",
        "  n=n-1;\n",
        "    "
      ],
      "execution_count": 0,
      "outputs": []
    },
    {
      "cell_type": "markdown",
      "metadata": {
        "id": "SXMaKcaynsS-",
        "colab_type": "text"
      },
      "source": [
        "example 10:"
      ]
    },
    {
      "cell_type": "code",
      "metadata": {
        "id": "1aV_oxxrnujB",
        "colab_type": "code",
        "outputId": "e1838120-fdaa-4ea9-aaad-6f951a747e91",
        "colab": {
          "base_uri": "https://localhost:8080/",
          "height": 34
        }
      },
      "source": [
        "x=1\n",
        "s=0\n",
        "while(x<100):\n",
        "  if(x%2==0):\n",
        "    s=s+x;\n",
        "  x=x+1;\n",
        "print(s);"
      ],
      "execution_count": 0,
      "outputs": [
        {
          "output_type": "stream",
          "text": [
            "2450\n"
          ],
          "name": "stdout"
        }
      ]
    },
    {
      "cell_type": "code",
      "metadata": {
        "id": "DBz7stAZpN3J",
        "colab_type": "code",
        "outputId": "ae6bb65e-db3e-42d5-dc77-a41cdd6f285b",
        "colab": {
          "base_uri": "https://localhost:8080/",
          "height": 68
        }
      },
      "source": [
        "x=int(input('enter upper limit'));\n",
        "y=int(input('enter lower limit'));\n",
        "sum=0;\n",
        "while(x!=y):\n",
        "  if(x%2==0):\n",
        "    sum=sum+x;\n",
        "  x=x+1;\n",
        "  \n",
        "print(sum);  "
      ],
      "execution_count": 0,
      "outputs": [
        {
          "output_type": "stream",
          "text": [
            "enter upper limit1\n",
            "enter lower limit100\n",
            "2450\n"
          ],
          "name": "stdout"
        }
      ]
    },
    {
      "cell_type": "markdown",
      "metadata": {
        "id": "PiX13ZJCrmXI",
        "colab_type": "text"
      },
      "source": [
        "example 11:"
      ]
    },
    {
      "cell_type": "code",
      "metadata": {
        "id": "KuG3f5BVroNe",
        "colab_type": "code",
        "outputId": "9ed2f9cd-0ca1-4143-855e-3937488047dc",
        "colab": {
          "base_uri": "https://localhost:8080/",
          "height": 85
        }
      },
      "source": [
        "x=int(input('enter number'));\n",
        "\n",
        "while(x>0):\n",
        "  y=x%10;\n",
        "  \n",
        "  print(int(y));\n",
        "  x=x//10;\n",
        "  \n",
        "  \n",
        "   \n",
        "    \n"
      ],
      "execution_count": 0,
      "outputs": [
        {
          "output_type": "stream",
          "text": [
            "enter number145\n",
            "5\n",
            "4\n",
            "1\n"
          ],
          "name": "stdout"
        }
      ]
    },
    {
      "cell_type": "code",
      "metadata": {
        "id": "B_qHtN1zte9t",
        "colab_type": "code",
        "colab": {}
      },
      "source": [
        "\n"
      ],
      "execution_count": 0,
      "outputs": []
    },
    {
      "cell_type": "markdown",
      "metadata": {
        "id": "WX_Jmb3y1ii_",
        "colab_type": "text"
      },
      "source": [
        "example 11:"
      ]
    },
    {
      "cell_type": "code",
      "metadata": {
        "id": "oAcjxM4w1ked",
        "colab_type": "code",
        "outputId": "3471aa8d-0493-4a2e-e97d-621d97e9c1d7",
        "colab": {
          "base_uri": "https://localhost:8080/",
          "height": 51
        }
      },
      "source": [
        "x=int(input('enter number'))\n",
        "sum=0\n",
        "while(x>0):\n",
        "  y=x%10\n",
        "  if(y%2==0):\n",
        "     sum=sum+y\n",
        "  x=x//10    \n",
        "  \n",
        "print(sum)"
      ],
      "execution_count": 0,
      "outputs": [
        {
          "output_type": "stream",
          "text": [
            "enter number1881\n",
            "16\n"
          ],
          "name": "stdout"
        }
      ]
    },
    {
      "cell_type": "markdown",
      "metadata": {
        "id": "Az16E0BZ52rM",
        "colab_type": "text"
      },
      "source": [
        "example 12:"
      ]
    },
    {
      "cell_type": "code",
      "metadata": {
        "id": "1rmszXy_51rt",
        "colab_type": "code",
        "outputId": "543b0d9b-af5e-443d-eb22-12c70ba4ef8e",
        "colab": {
          "base_uri": "https://localhost:8080/",
          "height": 68
        }
      },
      "source": [
        "x=int(input(\"enter number\"))\n",
        "while(x>0):\n",
        "  y=x%10\n",
        "  if(y==0):\n",
        "    print('ZERO')\n",
        "  elif(y==1):\n",
        "    print('one')\n",
        "  elif(y==2):\n",
        "    print('two') \n",
        "  elif(y==3):\n",
        "    print('three')   \n",
        "  elif(y==4):\n",
        "    print('four') \n",
        "  elif(y==5):\n",
        "    print('five')\n",
        "  elif(y==6):\n",
        "    print('six') \n",
        "  elif(y==7):\n",
        "    print('seven') \n",
        "  elif(y==8):\n",
        "    print('eight') \n",
        "  elif(y==9):\n",
        "    print('nine')\n",
        "  x=x//10  \n",
        "    "
      ],
      "execution_count": 0,
      "outputs": [
        {
          "output_type": "stream",
          "text": [
            "enter number90\n",
            "ZERO\n",
            "nine\n"
          ],
          "name": "stdout"
        }
      ]
    },
    {
      "cell_type": "markdown",
      "metadata": {
        "id": "bXQZVoh5_ojq",
        "colab_type": "text"
      },
      "source": [
        "example 13:"
      ]
    },
    {
      "cell_type": "code",
      "metadata": {
        "id": "2LGt9HMR_qlm",
        "colab_type": "code",
        "outputId": "2891b2fc-a0b9-42be-dabd-fc63cd41a3eb",
        "colab": {
          "base_uri": "https://localhost:8080/",
          "height": 282
        }
      },
      "source": [
        "x=int(input('enter  number'))\n",
        "y=int(input('enter  lower number'))\n",
        "z=int(input('enter  upper number'))\n",
        "count=0\n",
        "while(y<z):\n",
        "  while(y>0):\n",
        "      n=y%10\n",
        "      if(n==x):\n",
        "        count=count+1\n",
        "      y=y//10\n",
        "  y=y+1\n",
        "  \n",
        "print(count)  \n",
        "\n"
      ],
      "execution_count": 0,
      "outputs": [
        {
          "output_type": "stream",
          "text": [
            "enter  number6\n",
            "enter  lower number60\n",
            "enter  upper number65\n"
          ],
          "name": "stdout"
        },
        {
          "output_type": "error",
          "ename": "KeyboardInterrupt",
          "evalue": "ignored",
          "traceback": [
            "\u001b[0;31m---------------------------------------------------------------------------\u001b[0m",
            "\u001b[0;31mKeyboardInterrupt\u001b[0m                         Traceback (most recent call last)",
            "\u001b[0;32m<ipython-input-146-6739bd3ab79b>\u001b[0m in \u001b[0;36m<module>\u001b[0;34m()\u001b[0m\n\u001b[1;32m      5\u001b[0m \u001b[0;32mwhile\u001b[0m\u001b[0;34m(\u001b[0m\u001b[0my\u001b[0m\u001b[0;34m<\u001b[0m\u001b[0mz\u001b[0m\u001b[0;34m)\u001b[0m\u001b[0;34m:\u001b[0m\u001b[0;34m\u001b[0m\u001b[0;34m\u001b[0m\u001b[0m\n\u001b[1;32m      6\u001b[0m   \u001b[0;32mwhile\u001b[0m\u001b[0;34m(\u001b[0m\u001b[0my\u001b[0m\u001b[0;34m>\u001b[0m\u001b[0;36m0\u001b[0m\u001b[0;34m)\u001b[0m\u001b[0;34m:\u001b[0m\u001b[0;34m\u001b[0m\u001b[0;34m\u001b[0m\u001b[0m\n\u001b[0;32m----> 7\u001b[0;31m       \u001b[0mn\u001b[0m\u001b[0;34m=\u001b[0m\u001b[0my\u001b[0m\u001b[0;34m%\u001b[0m\u001b[0;36m10\u001b[0m\u001b[0;34m\u001b[0m\u001b[0;34m\u001b[0m\u001b[0m\n\u001b[0m\u001b[1;32m      8\u001b[0m       \u001b[0;32mif\u001b[0m\u001b[0;34m(\u001b[0m\u001b[0mn\u001b[0m\u001b[0;34m==\u001b[0m\u001b[0mx\u001b[0m\u001b[0;34m)\u001b[0m\u001b[0;34m:\u001b[0m\u001b[0;34m\u001b[0m\u001b[0;34m\u001b[0m\u001b[0m\n\u001b[1;32m      9\u001b[0m         \u001b[0mcount\u001b[0m\u001b[0;34m=\u001b[0m\u001b[0mcount\u001b[0m\u001b[0;34m+\u001b[0m\u001b[0;36m1\u001b[0m\u001b[0;34m\u001b[0m\u001b[0;34m\u001b[0m\u001b[0m\n",
            "\u001b[0;31mKeyboardInterrupt\u001b[0m: "
          ]
        }
      ]
    }
  ]
}