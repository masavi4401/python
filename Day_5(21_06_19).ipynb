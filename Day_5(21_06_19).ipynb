{
  "nbformat": 4,
  "nbformat_minor": 0,
  "metadata": {
    "colab": {
      "name": "Day-5(21-06-19).ipynb",
      "version": "0.3.2",
      "provenance": [],
      "include_colab_link": true
    },
    "language_info": {
      "codemirror_mode": {
        "name": "ipython",
        "version": 2
      },
      "file_extension": ".py",
      "mimetype": "text/x-python",
      "name": "python",
      "nbconvert_exporter": "python",
      "pygments_lexer": "ipython2",
      "version": "2.7.16"
    },
    "kernelspec": {
      "display_name": "Python 2",
      "language": "python",
      "name": "python2"
    }
  },
  "cells": [
    {
      "cell_type": "markdown",
      "metadata": {
        "id": "view-in-github",
        "colab_type": "text"
      },
      "source": [
        "<a href=\"https://colab.research.google.com/github/masavi4401/python/blob/master/Day_5(21_06_19).ipynb\" target=\"_parent\"><img src=\"https://colab.research.google.com/assets/colab-badge.svg\" alt=\"Open In Colab\"/></a>"
      ]
    },
    {
      "cell_type": "code",
      "metadata": {
        "id": "Hyp0ng-bdDdT",
        "colab_type": "code",
        "colab": {},
        "outputId": "8a806440-8ffa-4f6e-af2b-6eee8fd47995"
      },
      "source": [
        "print(\"Hello\")"
      ],
      "execution_count": 0,
      "outputs": [
        {
          "output_type": "stream",
          "text": [
            "Hello\n"
          ],
          "name": "stdout"
        }
      ]
    },
    {
      "cell_type": "markdown",
      "metadata": {
        "id": "CrSTdyQldDdj",
        "colab_type": "text"
      },
      "source": [
        "# ARITHMETIC OPERATORS"
      ]
    },
    {
      "cell_type": "code",
      "metadata": {
        "id": "npjV1knwdDdl",
        "colab_type": "code",
        "colab": {},
        "outputId": "9183f7f9-4051-49ab-ded2-7b2eefd1473b"
      },
      "source": [
        "x=10\n",
        "y=20\n",
        "sum=x+y\n",
        "sub=x-y\n",
        "multiplication=x*y\n",
        "divi=x/y\n",
        "modules=x%y\n",
        "division=x//y\n",
        "power=x**y\n",
        "\n",
        "print(sum)\n",
        "print(sub)\n",
        "print(multiplication)\n",
        "print(divi)\n",
        "print(modules)\n",
        "print(division)\n",
        "print(power)"
      ],
      "execution_count": 0,
      "outputs": [
        {
          "output_type": "stream",
          "text": [
            "30\n",
            "-10\n",
            "200\n",
            "0.5\n",
            "10\n",
            "0\n",
            "100000000000000000000\n"
          ],
          "name": "stdout"
        }
      ]
    },
    {
      "cell_type": "code",
      "metadata": {
        "id": "-A-3PheDdDdq",
        "colab_type": "code",
        "colab": {},
        "outputId": "f4dc4336-f35b-4f76-c87a-cbdf13de5b13"
      },
      "source": [
        "x=20\n",
        "res=x/9\n",
        "print(res)"
      ],
      "execution_count": 0,
      "outputs": [
        {
          "output_type": "stream",
          "text": [
            "2.2222222222222223\n"
          ],
          "name": "stdout"
        }
      ]
    },
    {
      "cell_type": "code",
      "metadata": {
        "id": "iXbgKB87dDdu",
        "colab_type": "code",
        "colab": {},
        "outputId": "56520389-f74b-4c23-ed2e-1406cec0f88d"
      },
      "source": [
        "x=20\n",
        "res=x//9\n",
        "print(res)"
      ],
      "execution_count": 0,
      "outputs": [
        {
          "output_type": "stream",
          "text": [
            "2\n"
          ],
          "name": "stdout"
        }
      ]
    },
    {
      "cell_type": "code",
      "metadata": {
        "id": "uIBQPFFmdDdy",
        "colab_type": "code",
        "colab": {},
        "outputId": "44ff8b66-7def-404d-e38f-9b74190ca755"
      },
      "source": [
        "x=1+2**3/4*5\n",
        "print(x)"
      ],
      "execution_count": 0,
      "outputs": [
        {
          "output_type": "stream",
          "text": [
            "11.0\n"
          ],
          "name": "stdout"
        }
      ]
    },
    {
      "cell_type": "code",
      "metadata": {
        "id": "AMDzwF_YdDd2",
        "colab_type": "code",
        "colab": {},
        "outputId": "bd22e380-a18b-41f4-b7cb-40822090b026"
      },
      "source": [
        "x=2+5**6/4*8\n",
        "print(x)"
      ],
      "execution_count": 0,
      "outputs": [
        {
          "output_type": "stream",
          "text": [
            "31252.0\n"
          ],
          "name": "stdout"
        }
      ]
    },
    {
      "cell_type": "code",
      "metadata": {
        "id": "X64cIt8qdDd7",
        "colab_type": "code",
        "colab": {},
        "outputId": "063cf5f4-b6bb-47d3-eb15-920c0284d1a3"
      },
      "source": [
        "x=2+5**6//4*8\n",
        "print(x)"
      ],
      "execution_count": 0,
      "outputs": [
        {
          "output_type": "stream",
          "text": [
            "31250\n"
          ],
          "name": "stdout"
        }
      ]
    },
    {
      "cell_type": "markdown",
      "metadata": {
        "id": "j3VSO7b_dDeC",
        "colab_type": "text"
      },
      "source": [
        "# RELATIONAL OPERATORS"
      ]
    },
    {
      "cell_type": "code",
      "metadata": {
        "id": "dzWkWhZEdDeD",
        "colab_type": "code",
        "colab": {},
        "outputId": "d05e688a-b9c1-4d12-f2f0-96b8049fede9"
      },
      "source": [
        "x=10 \n",
        "y=20 \n",
        "print(x<y) \n",
        "print(x<=y) \n",
        "print(x==y) \n",
        "print(x!=y) \n",
        "print(x>y) \n",
        "print(x>=y)"
      ],
      "execution_count": 0,
      "outputs": [
        {
          "output_type": "stream",
          "text": [
            "True\n",
            "True\n",
            "False\n",
            "True\n",
            "False\n",
            "False\n"
          ],
          "name": "stdout"
        }
      ]
    },
    {
      "cell_type": "markdown",
      "metadata": {
        "id": "JzsL4mLjdDeI",
        "colab_type": "text"
      },
      "source": [
        "# LOGICAL OPERATORS"
      ]
    },
    {
      "cell_type": "code",
      "metadata": {
        "id": "3Uyu7pU9dDeJ",
        "colab_type": "code",
        "colab": {},
        "outputId": "dd05529e-fab1-4651-f011-5d2cb0a4ff10"
      },
      "source": [
        "x=10\n",
        "res=(x<15)and(x<58)\n",
        "print(res)"
      ],
      "execution_count": 0,
      "outputs": [
        {
          "output_type": "stream",
          "text": [
            "True\n"
          ],
          "name": "stdout"
        }
      ]
    },
    {
      "cell_type": "code",
      "metadata": {
        "id": "gaD3xLdUdDeN",
        "colab_type": "code",
        "colab": {},
        "outputId": "ced2f71c-f7a6-4d65-d90e-5a9237229178"
      },
      "source": [
        "x=10\n",
        "res=(x<15)\n",
        "print(res)\n",
        "res=(x<58)\n",
        "print(res)"
      ],
      "execution_count": 0,
      "outputs": [
        {
          "output_type": "stream",
          "text": [
            "True\n",
            "True\n"
          ],
          "name": "stdout"
        }
      ]
    },
    {
      "cell_type": "code",
      "metadata": {
        "id": "kHH4aAC7dDeR",
        "colab_type": "code",
        "colab": {},
        "outputId": "1327dbe7-6284-4bc4-c017-a5b296e4389a"
      },
      "source": [
        "x=12\n",
        "res=(x>9) and (x>16)\n",
        "print(res)"
      ],
      "execution_count": 0,
      "outputs": [
        {
          "output_type": "stream",
          "text": [
            "False\n"
          ],
          "name": "stdout"
        }
      ]
    },
    {
      "cell_type": "code",
      "metadata": {
        "id": "GdntLNR_dDeU",
        "colab_type": "code",
        "colab": {},
        "outputId": "76f30726-f0b3-4dff-e157-8a7d82a3d9a4"
      },
      "source": [
        "x=12\n",
        "res=(x>58) and (x>16)\n",
        "print(res)"
      ],
      "execution_count": 0,
      "outputs": [
        {
          "output_type": "stream",
          "text": [
            "False\n"
          ],
          "name": "stdout"
        }
      ]
    },
    {
      "cell_type": "code",
      "metadata": {
        "id": "JLWupNY1dDeY",
        "colab_type": "code",
        "colab": {},
        "outputId": "8752362f-b943-4a5c-9da4-ca7647c67f8a"
      },
      "source": [
        "x=12\n",
        "res=(x>9) or (x>16)\n",
        "print(res)"
      ],
      "execution_count": 0,
      "outputs": [
        {
          "output_type": "stream",
          "text": [
            "True\n"
          ],
          "name": "stdout"
        }
      ]
    },
    {
      "cell_type": "code",
      "metadata": {
        "id": "BgcxfXnCdDee",
        "colab_type": "code",
        "colab": {},
        "outputId": "f95752bd-a1f2-4e36-99f3-f1d97a835565"
      },
      "source": [
        "x=True\n",
        "res=not(x)\n",
        "print(res)"
      ],
      "execution_count": 0,
      "outputs": [
        {
          "output_type": "stream",
          "text": [
            "False\n"
          ],
          "name": "stdout"
        }
      ]
    },
    {
      "cell_type": "code",
      "metadata": {
        "id": "CezqpBhSdDei",
        "colab_type": "code",
        "colab": {},
        "outputId": "37bd5e11-0e23-4e10-8e45-5453e9421c69"
      },
      "source": [
        "x=False\n",
        "res=not(x)\n",
        "print(res)"
      ],
      "execution_count": 0,
      "outputs": [
        {
          "output_type": "stream",
          "text": [
            "True\n"
          ],
          "name": "stdout"
        }
      ]
    },
    {
      "cell_type": "code",
      "metadata": {
        "id": "ESlWxL00dDel",
        "colab_type": "code",
        "colab": {}
      },
      "source": [
        ""
      ],
      "execution_count": 0,
      "outputs": []
    }
  ]
}