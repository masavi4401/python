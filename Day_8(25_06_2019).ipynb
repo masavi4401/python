{
  "nbformat": 4,
  "nbformat_minor": 0,
  "metadata": {
    "colab": {
      "name": "Day 8(25-06-2019).ipynb",
      "version": "0.3.2",
      "provenance": [],
      "include_colab_link": true
    },
    "language_info": {
      "codemirror_mode": {
        "name": "ipython",
        "version": 3
      },
      "file_extension": ".py",
      "mimetype": "text/x-python",
      "name": "python",
      "nbconvert_exporter": "python",
      "pygments_lexer": "ipython3",
      "version": "3.7.3"
    },
    "kernelspec": {
      "display_name": "Python 3",
      "language": "python",
      "name": "python3"
    }
  },
  "cells": [
    {
      "cell_type": "markdown",
      "metadata": {
        "id": "view-in-github",
        "colab_type": "text"
      },
      "source": [
        "<a href=\"https://colab.research.google.com/github/masavi4401/python/blob/master/Day_8(25_06_2019).ipynb\" target=\"_parent\"><img src=\"https://colab.research.google.com/assets/colab-badge.svg\" alt=\"Open In Colab\"/></a>"
      ]
    },
    {
      "cell_type": "markdown",
      "metadata": {
        "id": "YIPCJDN8edKY",
        "colab_type": "text"
      },
      "source": [
        "# Data Structures"
      ]
    },
    {
      "cell_type": "markdown",
      "metadata": {
        "id": "P-lgNhOgedKZ",
        "colab_type": "text"
      },
      "source": [
        "# Binary search\n",
        "midIndex=leftIndex+(rightIndex-leftIndex)//2;                                                                 \n",
        "midIndex=0+(7-0)//2;                                                                                          \n",
        "mixIndex=3                                                                                                          \n",
        "key>midIndex(midIndex-1)                                                                                                   \n",
        "key<midIndex(midIndex+1)                                                                                        \n",
        "Can be applyed to sorted and unique list"
      ]
    },
    {
      "cell_type": "code",
      "metadata": {
        "id": "xkgEeHEQedKb",
        "colab_type": "code",
        "colab": {},
        "outputId": "273aba14-0ffe-40f3-fb6a-260cb199c062"
      },
      "source": [
        "def binarysearch(a,lIndex,rIndex,tarItem):\n",
        "    while lIndex<=rIndex:\n",
        "        mindex=lIndex+(rIndex-lIndex)//2;\n",
        "        if a[mindex]==tarItem:\n",
        "            return mindex\n",
        "        if a[mindex]>tarItem:\n",
        "            rIndex=mindex-1\n",
        "        else:\n",
        "            lIndex=mindex+1\n",
        "    return -1\n",
        "list1=[1,4,9,15,25,45,57,88,98]\n",
        "res = binarysearch(list1,0,8,818)\n",
        "if res!=-1:\n",
        "    print(\"Item is found\")\n",
        "else:\n",
        "    print(\"Item is not found\")\n",
        "        "
      ],
      "execution_count": 0,
      "outputs": [
        {
          "output_type": "stream",
          "text": [
            "Item is not found\n"
          ],
          "name": "stdout"
        }
      ]
    },
    {
      "cell_type": "markdown",
      "metadata": {
        "id": "9BWEUFgYedKi",
        "colab_type": "text"
      },
      "source": [
        "# Example\n",
        "Bubble Sort                                                                                                    \n",
        "** It compare the adj items, if the first item is greater than the second item then there would required of swap the items\n"
      ]
    },
    {
      "cell_type": "code",
      "metadata": {
        "id": "y627_wA0edKj",
        "colab_type": "code",
        "colab": {},
        "outputId": "6d11ced5-7011-4ca1-cba2-bda854cd5aa8"
      },
      "source": [
        "def bubblesort(a):\n",
        "    for i in range (len(a)-1):\n",
        "        for j in range (len(a)-1):\n",
        "            if a[j]>a[j+1]:\n",
        "                a[j],a[j+1]=a[j+1],a[j]\n",
        "    for i in range (len(a)):\n",
        "        print(a[i],end=\" \")\n",
        "lst1 = [19,1,25,6,18,3]\n",
        "bubblesort(lst1)\n"
      ],
      "execution_count": 0,
      "outputs": [
        {
          "output_type": "stream",
          "text": [
            "1 3 6 18 19 25 "
          ],
          "name": "stdout"
        }
      ]
    },
    {
      "cell_type": "markdown",
      "metadata": {
        "id": "UOgVAkgvedKo",
        "colab_type": "text"
      },
      "source": [
        "# String in Python\n",
        "A string is a sequence of characters <br>                                                                            \n",
        "The conversion of character to a number is happens with ASCII Numbers                                         \n",
        "ASCII Number:                                                                                                      \n",
        "A-Z----------65-90                                                                                                     \n",
        "a-z----------97-122                                                                                                        \n",
        "0-9----------48-57                                                                                             "
      ]
    },
    {
      "cell_type": "markdown",
      "metadata": {
        "id": "XIstXfQCedKp",
        "colab_type": "text"
      },
      "source": [
        "# Example"
      ]
    },
    {
      "cell_type": "markdown",
      "metadata": {
        "id": "yJiowmXRedKq",
        "colab_type": "raw"
      },
      "source": [
        "#Creating a string\n",
        "str=\"Application\"\n",
        "print(str)\n",
        " \n",
        "str1=\"Application\"\n",
        "print(str1)\n",
        "str2=\"\"\"Application Test\n",
        "      working\n",
        "      completed\n",
        "      List\n",
        "      Strings\n",
        "      Python\"\"\"\n",
        "print(str2)"
      ]
    },
    {
      "cell_type": "code",
      "metadata": {
        "id": "rg1g5AYZedKr",
        "colab_type": "code",
        "colab": {},
        "outputId": "719961d8-6c81-4e8f-b4fb-d93bada1792c"
      },
      "source": [
        "str=\"Application\"\n",
        "print(str)\n",
        "print(\"str[0]=\",str[0])\n",
        "print(\"str[1]=\",str[1])\n",
        "print(\"str[-1]=\",str[-1])\n",
        "print(\"str[-3]=\",str[-3])\n",
        "print(\"str[1:5]=\",str[1:5])\n",
        "print(\"str[:5]=\",str[:5])\n",
        "print(\"str[5:-2]=\",str[5:-2])\n",
        "print(\"str[::-1]=\",str[::-1])#used for reverse the string"
      ],
      "execution_count": 0,
      "outputs": [
        {
          "output_type": "stream",
          "text": [
            "Application\n",
            "str[0]= A\n",
            "str[1]= p\n",
            "str[-1]= n\n",
            "str[-3]= i\n",
            "str[1:5]= ppli\n",
            "str[:5]= Appli\n",
            "str[5:-2]= cati\n",
            "str[::-1]= noitacilppA\n"
          ],
          "name": "stdout"
        }
      ]
    },
    {
      "cell_type": "markdown",
      "metadata": {
        "id": "hKSIX6ikedKv",
        "colab_type": "text"
      },
      "source": [
        "# Palindrome of String"
      ]
    },
    {
      "cell_type": "code",
      "metadata": {
        "id": "ZJA0yDeUedKw",
        "colab_type": "code",
        "colab": {},
        "outputId": "36f53b38-404a-4172-8edd-96a74a7e9984"
      },
      "source": [
        "def isPalindrome(s):\n",
        "    if s==s[::-1]:\n",
        "        return True\n",
        "    else:\n",
        "        return False\n",
        "print(isPalindrome(\"Python\"))\n",
        "print(isPalindrome(\"jalaj\"))"
      ],
      "execution_count": 0,
      "outputs": [
        {
          "output_type": "stream",
          "text": [
            "False\n",
            "True\n"
          ],
          "name": "stdout"
        }
      ]
    },
    {
      "cell_type": "code",
      "metadata": {
        "id": "ihDmnUp9edK1",
        "colab_type": "code",
        "colab": {},
        "outputId": "77c357bb-cd60-482e-ba03-72c21108bca2"
      },
      "source": [
        "# count the digtits of a number\n",
        "n=int(input(\"enter a number\"))\n",
        "cnt=0\n",
        "while n!=0:\n",
        "    cnt=cnt+1;\n",
        "    n=n//10;\n",
        "print(cnt)    "
      ],
      "execution_count": 0,
      "outputs": [
        {
          "output_type": "stream",
          "text": [
            "enter a number14978\n",
            "5\n"
          ],
          "name": "stdout"
        }
      ]
    },
    {
      "cell_type": "code",
      "metadata": {
        "id": "jxFWIqLledK7",
        "colab_type": "code",
        "colab": {},
        "outputId": "0169da24-7569-4cc6-98c2-7028beb60bce"
      },
      "source": [
        "#count of chars --String len function\n",
        "def countofChars(str):\n",
        "    return len(str)\n",
        "countofChars(\"Application\")"
      ],
      "execution_count": 0,
      "outputs": [
        {
          "output_type": "execute_result",
          "data": {
            "text/plain": [
              "11"
            ]
          },
          "metadata": {
            "tags": []
          },
          "execution_count": 29
        }
      ]
    },
    {
      "cell_type": "code",
      "metadata": {
        "id": "LuJWsNXgedLA",
        "colab_type": "code",
        "colab": {},
        "outputId": "1e09287a-03a1-4e77-ff0b-8998aed9ec55"
      },
      "source": [
        "#count of Digits in a number --String len function\n",
        "def countDigits(n):\n",
        "    return len(n)\n",
        "countDigits(\"25418\")"
      ],
      "execution_count": 0,
      "outputs": [
        {
          "output_type": "execute_result",
          "data": {
            "text/plain": [
              "5"
            ]
          },
          "metadata": {
            "tags": []
          },
          "execution_count": 30
        }
      ]
    },
    {
      "cell_type": "code",
      "metadata": {
        "id": "Gov6eugzedLE",
        "colab_type": "code",
        "colab": {},
        "outputId": "0cbb030b-b5d7-41b2-a92b-07b70d222919"
      },
      "source": [
        "#String--Converts--List--len of the list\n",
        "def count(str):\n",
        "    lst1=list(str)\n",
        "    return len(lst1)\n",
        "count(\"App\")\n",
        "    "
      ],
      "execution_count": 0,
      "outputs": [
        {
          "output_type": "execute_result",
          "data": {
            "text/plain": [
              "3"
            ]
          },
          "metadata": {
            "tags": []
          },
          "execution_count": 42
        }
      ]
    },
    {
      "cell_type": "markdown",
      "metadata": {
        "id": "MlkI9ScWedLI",
        "colab_type": "text"
      },
      "source": [
        "# String Examples     \n",
        "Test cases:-                                                                                                        \n",
        "Application--2                                                                                                             \n",
        "TeST--3"
      ]
    },
    {
      "cell_type": "code",
      "metadata": {
        "id": "r_qebZk-edLJ",
        "colab_type": "code",
        "colab": {},
        "outputId": "8291f6a8-4d93-490e-9913-a09a68b653ad"
      },
      "source": [
        "def countUpperCase(str):\n",
        "    cnt=0\n",
        "    lst=list(str)\n",
        "    for x in range (len(lst)):\n",
        "        if ord(lst[x])>=65 and ord(lst[x])<=90:\n",
        "            cnt=cnt+1\n",
        "    return cnt\n",
        "\n",
        "print(countUpperCase(\"AppLication\"))\n",
        "print(countUpperCase(\"TeST\"))"
      ],
      "execution_count": 0,
      "outputs": [
        {
          "output_type": "stream",
          "text": [
            "2\n",
            "3\n"
          ],
          "name": "stdout"
        }
      ]
    },
    {
      "cell_type": "markdown",
      "metadata": {
        "id": "Qo-qsE0dedLO",
        "colab_type": "text"
      },
      "source": [
        "# Print of digit in a string\n",
        "Test cases:-                                                                                                   \n",
        "Application1889--1889                                                                                             \n",
        "Te1520st--1520"
      ]
    },
    {
      "cell_type": "code",
      "metadata": {
        "scrolled": true,
        "id": "JaCoY40yedLP",
        "colab_type": "code",
        "colab": {},
        "outputId": "2d015b77-84ab-4582-8029-17233f228729"
      },
      "source": [
        "def printDigits(str):\n",
        "        lst=list(str)\n",
        "        for x in range(len(lst)):\n",
        "            \n",
        "            if ord(lst[x])>=48 and ord(lst[x])<=57:\n",
        "                print(lst[x],end=\"\")\n",
        "printDigits(\"Application1889\")#1889"
      ],
      "execution_count": 0,
      "outputs": [
        {
          "output_type": "stream",
          "text": [
            "1889"
          ],
          "name": "stdout"
        }
      ]
    },
    {
      "cell_type": "code",
      "metadata": {
        "id": "eTKbaqA5edLT",
        "colab_type": "code",
        "colab": {},
        "outputId": "8a07ac89-41d7-4ca2-fd99-2e343cffb76f"
      },
      "source": [
        "def countDigits(str):\n",
        "    lst=list(str)\n",
        "    s=''\n",
        "    for x in lst:\n",
        "        if x.isdecimal():\n",
        "            s+=x\n",
        "    return s        \n",
        "       \n",
        "print(countDigits(\"NextSparkling2019\"));"
      ],
      "execution_count": 0,
      "outputs": [
        {
          "output_type": "stream",
          "text": [
            "2019\n"
          ],
          "name": "stdout"
        }
      ]
    },
    {
      "cell_type": "markdown",
      "metadata": {
        "id": "GkhoEZ_wedLW",
        "colab_type": "text"
      },
      "source": [
        "# Strings\n",
        "Test cases:                                                                                                       \n",
        "Application1889---26                                                                                                       \n",
        "te1871st---17"
      ]
    },
    {
      "cell_type": "code",
      "metadata": {
        "id": "OOmO-ECIedLX",
        "colab_type": "code",
        "colab": {},
        "outputId": "e64700be-90c1-4902-9a30-35e822087756"
      },
      "source": [
        "def sumofDigits(str):\n",
        "    sum=0\n",
        "    lst=list(str)\n",
        "    for x in range(len(lst)):\n",
        "        if ord(lst[x])>=48 and ord(lst[x])<=57:\n",
        "            sum=sum+ord(lst[x])-48;\n",
        "    return sum\n",
        "sumofDigits(\"Application1889\")          "
      ],
      "execution_count": 0,
      "outputs": [
        {
          "output_type": "execute_result",
          "data": {
            "text/plain": [
              "26"
            ]
          },
          "metadata": {
            "tags": []
          },
          "execution_count": 74
        }
      ]
    },
    {
      "cell_type": "markdown",
      "metadata": {
        "id": "jEQzn83SedLd",
        "colab_type": "text"
      },
      "source": [
        "# Strings--Add only even digits to sum\n",
        "Test cases:                                                                                                       \n",
        "Application1889---16                                                                                                      \n",
        "Te1591st---0                                                                                                     \n",
        "Wor7852king---10"
      ]
    },
    {
      "cell_type": "code",
      "metadata": {
        "id": "Nq9KX5jWedLe",
        "colab_type": "code",
        "colab": {},
        "outputId": "1e9e145d-a44d-4bff-800b-4c7826ccc9c1"
      },
      "source": [
        "def sumOnlyEvenDigits(str):\n",
        "    sum=0\n",
        "    lst=list(str)\n",
        "    for x in range (len(lst)):\n",
        "        if ord(lst[x])>=48 and ord(lst[x])<=57:\n",
        "            ac=ord(lst[x])-48\n",
        "            if (ac%2==0):\n",
        "                sum=sum+ac\n",
        "    return sum\n",
        "print(sumOnlyEvenDigits(\"Application1889\"))\n",
        "print(sumOnlyEvenDigits(\"Te1591st\"))"
      ],
      "execution_count": 0,
      "outputs": [
        {
          "output_type": "stream",
          "text": [
            "16\n",
            "0\n"
          ],
          "name": "stdout"
        }
      ]
    },
    {
      "cell_type": "markdown",
      "metadata": {
        "id": "FlXN-sHHedLj",
        "colab_type": "text"
      },
      "source": [
        "# String Character conversion\n",
        "If the input character is Upper case character and convert lower case                                              \n",
        "If input character is lower case and then                                                                    \n",
        "test cases                                                                                                \n",
        "AppLICation---aPPlicATION                                                                          \n",
        "TesT---tESt"
      ]
    },
    {
      "cell_type": "code",
      "metadata": {
        "id": "6m1oBcN4edLk",
        "colab_type": "code",
        "colab": {},
        "outputId": "a2c14886-7f5c-48dc-f78a-482e3cfd7559"
      },
      "source": [
        "s=input('enter the string')\n",
        "print(s.swapcase())"
      ],
      "execution_count": 0,
      "outputs": [
        {
          "output_type": "stream",
          "text": [
            "enter the stringAppLICation\n",
            "aPPlicATION\n"
          ],
          "name": "stdout"
        }
      ]
    },
    {
      "cell_type": "code",
      "metadata": {
        "id": "nK3sdmHdedLp",
        "colab_type": "code",
        "colab": {}
      },
      "source": [
        ""
      ],
      "execution_count": 0,
      "outputs": []
    },
    {
      "cell_type": "markdown",
      "metadata": {
        "id": "NOtIlL3ZedLt",
        "colab_type": "text"
      },
      "source": [
        "# Stringonly specific word in Upper case/lower case\n",
        "Test cases                                                                                                   \n",
        "Application test woring---TEST                                                                                      \n",
        "Python is Easy-----IS"
      ]
    },
    {
      "cell_type": "code",
      "metadata": {
        "id": "q9JbZiBcedLu",
        "colab_type": "code",
        "colab": {}
      },
      "source": [
        ""
      ],
      "execution_count": 0,
      "outputs": []
    },
    {
      "cell_type": "markdown",
      "metadata": {
        "id": "-5_I9IJZedLx",
        "colab_type": "text"
      },
      "source": [
        "# Alternate characters printing from both the strings\n",
        "Test cases                                                                                                     \n",
        "'ab''xyz'---axbyz                                                                                             \n",
        "'abcd','xy'---axbycd"
      ]
    },
    {
      "cell_type": "code",
      "metadata": {
        "id": "019-b1pmedLy",
        "colab_type": "code",
        "colab": {}
      },
      "source": [
        ""
      ],
      "execution_count": 0,
      "outputs": []
    }
  ]
}