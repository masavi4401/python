{
  "nbformat": 4,
  "nbformat_minor": 0,
  "metadata": {
    "colab": {
      "name": "day 9-26th",
      "version": "0.3.2",
      "provenance": [],
      "include_colab_link": true
    },
    "kernelspec": {
      "name": "python3",
      "display_name": "Python 3"
    }
  },
  "cells": [
    {
      "cell_type": "markdown",
      "metadata": {
        "id": "view-in-github",
        "colab_type": "text"
      },
      "source": [
        "<a href=\"https://colab.research.google.com/github/masavi4401/python/blob/master/day_9_26th.ipynb\" target=\"_parent\"><img src=\"https://colab.research.google.com/assets/colab-badge.svg\" alt=\"Open In Colab\"/></a>"
      ]
    },
    {
      "cell_type": "markdown",
      "metadata": {
        "id": "ZgQX75TykyDz",
        "colab_type": "text"
      },
      "source": [
        "Boolean Methods\n",
        "islower() -- Method returns the output either true or false , if it is true the given character is lower case and if not it returns false\n",
        "\n",
        "isupper() -- True and False\n",
        "\n",
        "isnumeric() -- True and False\n",
        "\n",
        "isalpha() -- True and False(Given sting need to have only alphabetic characters)\n",
        "\n",
        "istitle() -- True and False(String is in title case)\n",
        "\n",
        "isspace() -- true and False"
      ]
    },
    {
      "cell_type": "code",
      "metadata": {
        "id": "VZtjMXke5saD",
        "colab_type": "code",
        "outputId": "28931da4-ac84-4451-a7f6-583010579677",
        "colab": {
          "base_uri": "https://localhost:8080/",
          "height": 51
        }
      },
      "source": [
        "s1='python'\n",
        "print(s1.lower())\n",
        "print(s1.upper())"
      ],
      "execution_count": 0,
      "outputs": [
        {
          "output_type": "stream",
          "text": [
            "python\n",
            "PYTHON\n"
          ],
          "name": "stdout"
        }
      ]
    },
    {
      "cell_type": "code",
      "metadata": {
        "id": "01eF6j-U7sUB",
        "colab_type": "code",
        "outputId": "29065bec-6daa-47bd-c0f3-561f55f503f5",
        "colab": {
          "base_uri": "https://localhost:8080/",
          "height": 68
        }
      },
      "source": [
        "s='application'\n",
        "s1='app1889'\n",
        "print(s.isalpha())\n",
        "print(s1.isalpha())\n",
        "print(s1.isnumeric())"
      ],
      "execution_count": 0,
      "outputs": [
        {
          "output_type": "stream",
          "text": [
            "True\n",
            "False\n",
            "False\n"
          ],
          "name": "stdout"
        }
      ]
    },
    {
      "cell_type": "code",
      "metadata": {
        "id": "H2wLPq-C8ZVB",
        "colab_type": "code",
        "outputId": "4c0fddbd-9a77-41bd-a42f-23cb6448a344",
        "colab": {
          "base_uri": "https://localhost:8080/",
          "height": 51
        }
      },
      "source": [
        "s=\"python Programming\"\n",
        "s1=\"Python Programming\"\n",
        "print(s.istitle())\n",
        "print(s1.istitle())"
      ],
      "execution_count": 0,
      "outputs": [
        {
          "output_type": "stream",
          "text": [
            "False\n",
            "True\n"
          ],
          "name": "stdout"
        }
      ]
    },
    {
      "cell_type": "code",
      "metadata": {
        "id": "amyaZuzB9DPv",
        "colab_type": "code",
        "outputId": "c9c86a4d-30f4-4887-8323-b2e447286e4a",
        "colab": {
          "base_uri": "https://localhost:8080/",
          "height": 51
        }
      },
      "source": [
        "s=\"python\"\n",
        "s1=\"PYTHON\"\n",
        "print(s.islower())\n",
        "print(s1.islower())"
      ],
      "execution_count": 0,
      "outputs": [
        {
          "output_type": "stream",
          "text": [
            "True\n",
            "False\n"
          ],
          "name": "stdout"
        }
      ]
    },
    {
      "cell_type": "markdown",
      "metadata": {
        "id": "H2pBKDlClBEP",
        "colab_type": "text"
      },
      "source": [
        "String Methods\n",
        "1.join():join() method will concatinate two strings\n",
        "\n",
        "2.split():split() returns the list of strings that are separeted by whitespaces if there is no parameters to given\n",
        "\n",
        "3.replace():replace the original string with the new string"
      ]
    },
    {
      "cell_type": "code",
      "metadata": {
        "id": "bFkd3-5DB07P",
        "colab_type": "code",
        "outputId": "d382c133-405d-441e-f41c-5fcca95c6e4a",
        "colab": {
          "base_uri": "https://localhost:8080/",
          "height": 51
        }
      },
      "source": [
        "s=\"python is easy\"\n",
        "l=s.split()\n",
        "print(l)\n",
        "print()\n"
      ],
      "execution_count": 0,
      "outputs": [
        {
          "output_type": "stream",
          "text": [
            "['python', 'is', 'easy']\n",
            "\n"
          ],
          "name": "stdout"
        }
      ]
    },
    {
      "cell_type": "code",
      "metadata": {
        "id": "7oWX5EpNljjF",
        "colab_type": "code",
        "outputId": "09afe317-52fa-49e9-ada6-b11c13abbe60",
        "colab": {
          "base_uri": "https://localhost:8080/",
          "height": 34
        }
      },
      "source": [
        "s='Python Programming'\n",
        "print(s.replace('gra','application'))"
      ],
      "execution_count": 0,
      "outputs": [
        {
          "output_type": "stream",
          "text": [
            "Python Proapplicationmming\n"
          ],
          "name": "stdout"
        }
      ]
    },
    {
      "cell_type": "markdown",
      "metadata": {
        "id": "LvT5suKmlqk1",
        "colab_type": "text"
      },
      "source": [
        "Python -- Tuples\n",
        "A tuple is a sequence of set of objects is like list only.\n",
        "\n",
        "The differences of list and tuple are, the tuples cannot be changed unlike list\n",
        "\n",
        "List will use square brackets hold objects[]\n",
        "\n",
        "Tuples will use parenthesis to hold objects()\n",
        "\n",
        "Tuples are useful when the given input is only for read purpose"
      ]
    },
    {
      "cell_type": "code",
      "metadata": {
        "id": "oMXIJ5LVl2Yv",
        "colab_type": "code",
        "outputId": "a05efdb8-e510-45b6-b2a4-cd407ee34f1c",
        "colab": {
          "base_uri": "https://localhost:8080/",
          "height": 102
        }
      },
      "source": [
        "t1=('Python','Programming',1989,2019,'Machine Learning','AI')\n",
        "print('t1[0] = ',t1[0])\n",
        "print('t1[1] = ',t1[1])\n",
        "print('t1[-1] = ',t1[-1])\n",
        "print('t1[1:4] = ',t1[1:4])\n",
        "print('t1[2:-2] = ',t1[2:-2])\n",
        "\n"
      ],
      "execution_count": 0,
      "outputs": [
        {
          "output_type": "stream",
          "text": [
            "t1[0] =  Python\n",
            "t1[1] =  Programming\n",
            "t1[-1] =  AI\n",
            "t1[1:4] =  ('Programming', 1989, 2019)\n",
            "t1[2:-2] =  (1989, 2019)\n"
          ],
          "name": "stdout"
        }
      ]
    },
    {
      "cell_type": "code",
      "metadata": {
        "id": "QGa0XLfsmCpk",
        "colab_type": "code",
        "outputId": "2bd26fe0-6c58-4435-9c3b-93be64fa31dc",
        "colab": {
          "base_uri": "https://localhost:8080/",
          "height": 34
        }
      },
      "source": [
        "t1=('Python','Programming')\n",
        "t2=(1989,2019,'ML','AI')\n",
        "t3=t1+t2\n",
        "print(t3)"
      ],
      "execution_count": 0,
      "outputs": [
        {
          "output_type": "stream",
          "text": [
            "('Python', 'Programming', 1989, 2019, 'ML', 'AI')\n"
          ],
          "name": "stdout"
        }
      ]
    },
    {
      "cell_type": "markdown",
      "metadata": {
        "id": "yRQHcSPHmMsl",
        "colab_type": "text"
      },
      "source": [
        "Tuple Methods\n",
        "1.len(tuple):-len of the tuple\n",
        "\n",
        "2.max(tuple):-returns the max value from tuple\n",
        "\n",
        "3.min(tuple):-returns the min value from tuple\n",
        "\n",
        "**4.cmp(tuple1,tuple2):-returns the value as 1 or -1"
      ]
    },
    {
      "cell_type": "code",
      "metadata": {
        "id": "I-AaayGPmV8j",
        "colab_type": "code",
        "outputId": "53ed2683-4540-4743-b0f3-743b0629eb96",
        "colab": {
          "base_uri": "https://localhost:8080/",
          "height": 214
        }
      },
      "source": [
        "t1=(12,15,19,25,6,18)\n",
        "t2=('Python',12,1,'Programming')\n",
        "print(max(t1))\n",
        "print(max(t2))"
      ],
      "execution_count": 0,
      "outputs": [
        {
          "output_type": "stream",
          "text": [
            "25\n"
          ],
          "name": "stdout"
        },
        {
          "output_type": "error",
          "ename": "TypeError",
          "evalue": "ignored",
          "traceback": [
            "\u001b[0;31m---------------------------------------------------------------------------\u001b[0m",
            "\u001b[0;31mTypeError\u001b[0m                                 Traceback (most recent call last)",
            "\u001b[0;32m<ipython-input-21-ce71302d2c66>\u001b[0m in \u001b[0;36m<module>\u001b[0;34m()\u001b[0m\n\u001b[1;32m      2\u001b[0m \u001b[0mt2\u001b[0m\u001b[0;34m=\u001b[0m\u001b[0;34m(\u001b[0m\u001b[0;34m'Python'\u001b[0m\u001b[0;34m,\u001b[0m\u001b[0;36m12\u001b[0m\u001b[0;34m,\u001b[0m\u001b[0;36m1\u001b[0m\u001b[0;34m,\u001b[0m\u001b[0;34m'Programming'\u001b[0m\u001b[0;34m)\u001b[0m\u001b[0;34m\u001b[0m\u001b[0;34m\u001b[0m\u001b[0m\n\u001b[1;32m      3\u001b[0m \u001b[0mprint\u001b[0m\u001b[0;34m(\u001b[0m\u001b[0mmax\u001b[0m\u001b[0;34m(\u001b[0m\u001b[0mt1\u001b[0m\u001b[0;34m)\u001b[0m\u001b[0;34m)\u001b[0m\u001b[0;34m\u001b[0m\u001b[0;34m\u001b[0m\u001b[0m\n\u001b[0;32m----> 4\u001b[0;31m \u001b[0mprint\u001b[0m\u001b[0;34m(\u001b[0m\u001b[0mmax\u001b[0m\u001b[0;34m(\u001b[0m\u001b[0mt2\u001b[0m\u001b[0;34m)\u001b[0m\u001b[0;34m)\u001b[0m\u001b[0;34m\u001b[0m\u001b[0;34m\u001b[0m\u001b[0m\n\u001b[0m",
            "\u001b[0;31mTypeError\u001b[0m: '>' not supported between instances of 'int' and 'str'"
          ]
        }
      ]
    },
    {
      "cell_type": "code",
      "metadata": {
        "id": "3qUrUIiCmatM",
        "colab_type": "code",
        "outputId": "ca9305ec-2d7d-4085-bf00-a198bd3e4358",
        "colab": {
          "base_uri": "https://localhost:8080/",
          "height": 34
        }
      },
      "source": [
        "t1=('Python','Programming',1989,2019,'Machine Learning','AI')\n",
        "print(len(t1))"
      ],
      "execution_count": 0,
      "outputs": [
        {
          "output_type": "stream",
          "text": [
            "6\n"
          ],
          "name": "stdout"
        }
      ]
    },
    {
      "cell_type": "code",
      "metadata": {
        "id": "fbSZm5sYmm8I",
        "colab_type": "code",
        "outputId": "8e1b142e-86ee-4932-c5a1-d31f9b8b97ad",
        "colab": {
          "base_uri": "https://localhost:8080/",
          "height": 51
        }
      },
      "source": [
        "list1=['Python','Programming',1989,2019,'Machine Learning','AI']\n",
        "print(list1)\n",
        "tuple1=tuple(list1)\n",
        "print(tuple1)\n"
      ],
      "execution_count": 0,
      "outputs": [
        {
          "output_type": "stream",
          "text": [
            "['Python', 'Programming', 1989, 2019, 'Machine Learning', 'AI']\n",
            "('Python', 'Programming', 1989, 2019, 'Machine Learning', 'AI')\n"
          ],
          "name": "stdout"
        }
      ]
    },
    {
      "cell_type": "markdown",
      "metadata": {
        "id": "bo_JfaOkmyjT",
        "colab_type": "text"
      },
      "source": [
        "###Python -- Dictionary\n",
        "\n",
        "Dictionary each key is separeted with values by colon(:)\n",
        "\n",
        "User data can be separeted from comma operator\n",
        "\n",
        "Examples:-\n",
        "\n",
        "user1 = {'Name':'masavi','Age':'18','EmailID':'masavi@gmail.com','MobileNumber':'9999999999'}\n",
        "\n",
        "**Methods**\n",
        "\n",
        "**1.len(dictobj)**:-returns a number which having length\n",
        "\n",
        "**2.str(dictobj)**:-returns the equ string to dic object\n",
        "\n",
        "**3.copy(dictobj)**:-Copies the one dic object data to another data"
      ]
    },
    {
      "cell_type": "code",
      "metadata": {
        "id": "DBbaZEjhrM4y",
        "colab_type": "code",
        "outputId": "6b802e35-ea4a-4d12-f26d-a7ed61635c95",
        "colab": {
          "base_uri": "https://localhost:8080/",
          "height": 85
        }
      },
      "source": [
        "user1 = {'Name':'MASAVI','Age':'18','EmailID':'masavi@gmail.com','MobileNumber':'9999999999'}\n",
        "print('user1[Name] = ',user1['Name'])\n",
        "print('user1[EmailID] = ',user1['EmailID'])\n",
        "print('user1[Age] = ',user1['Age'])\n",
        "print('user1[MobileNumber] = ',user1['MobileNumber'])"
      ],
      "execution_count": 0,
      "outputs": [
        {
          "output_type": "stream",
          "text": [
            "user1[Name] =  MASAVI\n",
            "user1[EmailID] =  masavi@gmail.com\n",
            "user1[Age] =  18\n",
            "user1[MobileNumber] =  9999999999\n"
          ],
          "name": "stdout"
        }
      ]
    },
    {
      "cell_type": "code",
      "metadata": {
        "id": "kTYTPnierqDC",
        "colab_type": "code",
        "outputId": "8fddb497-974e-4c61-8c42-dba10d6b091c",
        "colab": {
          "base_uri": "https://localhost:8080/",
          "height": 51
        }
      },
      "source": [
        "user1 = {'Name':'masavi','Age':'18','EmailID':'masavi@gmail.com','MobileNumber':'9999999999'}\n",
        "print(len(user1))\n",
        "user1['Address']= 'Hyderabad'\n",
        "print(len(user1))"
      ],
      "execution_count": 0,
      "outputs": [
        {
          "output_type": "stream",
          "text": [
            "4\n",
            "5\n"
          ],
          "name": "stdout"
        }
      ]
    },
    {
      "cell_type": "code",
      "metadata": {
        "id": "hkLzHHDWr0bt",
        "colab_type": "code",
        "outputId": "399c7976-40d9-4b17-b672-3b46c6151bac",
        "colab": {
          "base_uri": "https://localhost:8080/",
          "height": 51
        }
      },
      "source": [
        "user1 = {'Name':'masavi','Age':'18','EmailID':'masavi@gmail.com','MobileNumber':'9999999999'}\n",
        "user2=user1.copy()\n",
        "print(user1)\n",
        "print(user2)"
      ],
      "execution_count": 0,
      "outputs": [
        {
          "output_type": "stream",
          "text": [
            "{'Name': 'masavi', 'Age': '18', 'EmailID': 'masavi@gmail.com', 'MobileNumber': '9999999999'}\n",
            "{'Name': 'masavi', 'Age': '18', 'EmailID': 'masavi@gmail.com', 'MobileNumber': '9999999999'}\n"
          ],
          "name": "stdout"
        }
      ]
    },
    {
      "cell_type": "markdown",
      "metadata": {
        "id": "KQm2LVNDnkAw",
        "colab_type": "text"
      },
      "source": [
        "###String Formatting\n",
        "\n",
        "%s %d"
      ]
    },
    {
      "cell_type": "code",
      "metadata": {
        "id": "6JX4VMAxEpBl",
        "colab_type": "code",
        "outputId": "dba57d46-a322-4289-ee42-fe30be23ce2e",
        "colab": {
          "base_uri": "https://localhost:8080/",
          "height": 34
        }
      },
      "source": [
        "lst=['Python','Programming']\n",
        "print('%s %s'%(lst[0],lst[1]))"
      ],
      "execution_count": 0,
      "outputs": [
        {
          "output_type": "stream",
          "text": [
            "Python Programming\n"
          ],
          "name": "stdout"
        }
      ]
    },
    {
      "cell_type": "code",
      "metadata": {
        "id": "C4mcvaBbE4ER",
        "colab_type": "code",
        "outputId": "8baf32c0-8428-4348-c832-e5af4fe3fb4d",
        "colab": {
          "base_uri": "https://localhost:8080/",
          "height": 34
        }
      },
      "source": [
        "lst=['Python','Programming']\n",
        "print('{0} {1}'.format(lst[0],lst[1]))"
      ],
      "execution_count": 0,
      "outputs": [
        {
          "output_type": "stream",
          "text": [
            "Python Programming\n"
          ],
          "name": "stdout"
        }
      ]
    },
    {
      "cell_type": "markdown",
      "metadata": {
        "id": "Ewd2iZhwFFg2",
        "colab_type": "text"
      },
      "source": [
        "Contact Application\n",
        "1.Add new contact\n",
        "\n",
        "2.Search for contact\n",
        "\n",
        "3.List of all contacts\n",
        "\n",
        "   3.1 Name1 - Phone1\n",
        "\n",
        "   3.2 Name2 - Phone2\n",
        "4.Remove contact\n",
        "\n",
        "5.Modify contacts"
      ]
    },
    {
      "cell_type": "code",
      "metadata": {
        "id": "5Iv8sQeNFPYN",
        "colab_type": "code",
        "outputId": "5a38babc-11cc-428e-d67f-366f70920081",
        "colab": {
          "base_uri": "https://localhost:8080/",
          "height": 68
        }
      },
      "source": [
        "contacts = {}\n",
        "def addcontact(name,phone):\n",
        "  #verify that the contact doesn't already exist\n",
        "  if name not in contacts:\n",
        "    contacts[name] = phone\n",
        "    print('Contact %s added' % name)\n",
        "  else:\n",
        "    print('contact %s already exists' % name)\n",
        "  return\n",
        "addcontact('masavi',9521543154)\n",
        "addcontact('maasavi',9546563256)\n",
        "addcontact('maaasavi',9565464654)"
      ],
      "execution_count": 0,
      "outputs": [
        {
          "output_type": "stream",
          "text": [
            "Contact masavi added\n",
            "Contact maasavi added\n",
            "Contact maaasavi added\n"
          ],
          "name": "stdout"
        }
      ]
    },
    {
      "cell_type": "code",
      "metadata": {
        "id": "jcWakYKNFW_F",
        "colab_type": "code",
        "outputId": "bb77bccb-b6fb-4c08-861c-6d0e35f90e8b",
        "colab": {
          "base_uri": "https://localhost:8080/",
          "height": 68
        }
      },
      "source": [
        "#Search for a particular contact from Contact List\n",
        "def searchcontact(name):\n",
        "  if name in contacts:\n",
        "    print(name, ': ' ,contacts[name])\n",
        "  else:\n",
        "    print('%s does not exists' % name)\n",
        "  return\n",
        "searchcontact('masavi')\n",
        "searchcontact('maasavi')\n",
        "searchcontact('maaasavi')"
      ],
      "execution_count": 0,
      "outputs": [
        {
          "output_type": "stream",
          "text": [
            "masavi :  9865456354\n",
            "maasavi :  8545416524\n",
            "maaasavi does not exists\n"
          ],
          "name": "stdout"
        }
      ]
    },
    {
      "cell_type": "code",
      "metadata": {
        "id": "VoLzMWOPFcG0",
        "colab_type": "code",
        "outputId": "7715f763-fb23-4d1e-bae9-25d28cd3e2db",
        "colab": {
          "base_uri": "https://localhost:8080/",
          "height": 34
        }
      },
      "source": [
        "#New Contacts is given as a dictionary\n",
        "#Merge new contact  with existing contacts list\n",
        "def importcontacts(newcontacts):\n",
        "  contacts.update(newcontacts)\n",
        "  print(len(newcontacts.keys()),'Conatcts added successfully')\n",
        "  return\n",
        "newcontacts={'masavi':9545254362,'maasavi':8545416524}\n",
        "importcontacts(newcontacts)"
      ],
      "execution_count": 0,
      "outputs": [
        {
          "output_type": "stream",
          "text": [
            "2 Conatcts added successfully\n"
          ],
          "name": "stdout"
        }
      ]
    },
    {
      "cell_type": "code",
      "metadata": {
        "id": "F7P5iOlVGIqq",
        "colab_type": "code",
        "outputId": "0867b4bf-f5a6-45e6-b1a2-49d00c1e2fcd",
        "colab": {
          "base_uri": "https://localhost:8080/",
          "height": 34
        }
      },
      "source": [
        "print(contacts)"
      ],
      "execution_count": 0,
      "outputs": [
        {
          "output_type": "stream",
          "text": [
            "{'masavi': 9865456354, 'maasavi': 8545416524}\n"
          ],
          "name": "stdout"
        }
      ]
    },
    {
      "cell_type": "code",
      "metadata": {
        "id": "_SmkJbZbI9-0",
        "colab_type": "code",
        "outputId": "8dadc0b1-f60a-408f-ccf0-9f282945a770",
        "colab": {
          "base_uri": "https://localhost:8080/",
          "height": 51
        }
      },
      "source": [
        "#Delete a conatct from contacts list\n",
        "def deletecontact(name):\n",
        "  if name in contacts:\n",
        "    del contacts[name]\n",
        "    print(name,'is deleted from the contacts')\n",
        "  else:\n",
        "    print(name,'does not exists in the contacts')\n",
        "  return\n",
        "deletecontact('maaasavi')\n",
        "deletecontact('Shami')"
      ],
      "execution_count": 0,
      "outputs": [
        {
          "output_type": "stream",
          "text": [
            "maaasavi does not exists in the contacts\n",
            "Shami does not exists in the contacts\n"
          ],
          "name": "stdout"
        }
      ]
    },
    {
      "cell_type": "code",
      "metadata": {
        "id": "NNaMzn0ULqo-",
        "colab_type": "code",
        "outputId": "d1ee5a7e-db1f-4bee-a7bd-582968d3f852",
        "colab": {
          "base_uri": "https://localhost:8080/",
          "height": 51
        }
      },
      "source": [
        "def updatecontact(name,phone):\n",
        "  if name in contacts:\n",
        "    contacts[name] = phone\n",
        "    print(name,'Updated with new Phone number')\n",
        "  else:\n",
        "    print(name,'Not exists in contacts')\n",
        "  return\n",
        "updatecontact('hethvi',9852415846)\n",
        "updatecontact('masavi',9865456354)"
      ],
      "execution_count": 0,
      "outputs": [
        {
          "output_type": "stream",
          "text": [
            "hethvi Not exists in contacts\n",
            "masavi Updated with new Phone number\n"
          ],
          "name": "stdout"
        }
      ]
    },
    {
      "cell_type": "code",
      "metadata": {
        "id": "UO0JOs_dMokF",
        "colab_type": "code",
        "outputId": "9ecf0559-6e0e-4af6-d5f7-03dc07305399",
        "colab": {
          "base_uri": "https://localhost:8080/",
          "height": 34
        }
      },
      "source": [
        "print(contacts)"
      ],
      "execution_count": 0,
      "outputs": [
        {
          "output_type": "stream",
          "text": [
            "{'masavi': 9865456354, 'maasavi': 8545416524}\n"
          ],
          "name": "stdout"
        }
      ]
    },
    {
      "cell_type": "markdown",
      "metadata": {
        "id": "WwJiw4iSQtt0",
        "colab_type": "text"
      },
      "source": [
        "###Packages and Modules\n",
        "\n",
        "**Package**:- Collection of Modules(Python file .py)\n",
        "\n",
        "**Sub Packages**:- Its part of Main package\n",
        "\n",
        "**Module**:- A single Python file contains set of operations(Functions)\n",
        "\n",
        "        *Package --> Sub package --> Modules --> Functions*\n",
        "   "
      ]
    },
    {
      "cell_type": "code",
      "metadata": {
        "id": "iDhJrc8FTJrl",
        "colab_type": "code",
        "outputId": "e119ca80-f2bc-49af-f6fc-c4618862694f",
        "colab": {
          "base_uri": "https://localhost:8080/",
          "height": 34
        }
      },
      "source": [
        "from math import floor as f1\n",
        "f1(123.456)"
      ],
      "execution_count": 0,
      "outputs": [
        {
          "output_type": "execute_result",
          "data": {
            "text/plain": [
              "123"
            ]
          },
          "metadata": {
            "tags": []
          },
          "execution_count": 39
        }
      ]
    },
    {
      "cell_type": "code",
      "metadata": {
        "id": "BqzMEjQGTOpG",
        "colab_type": "code",
        "outputId": "ef63fba0-58b7-496c-96b4-79ef0d8e115c",
        "colab": {
          "base_uri": "https://localhost:8080/",
          "height": 34
        }
      },
      "source": [
        "from math import factorial as fact\n",
        "fact(5)"
      ],
      "execution_count": 0,
      "outputs": [
        {
          "output_type": "execute_result",
          "data": {
            "text/plain": [
              "120"
            ]
          },
          "metadata": {
            "tags": []
          },
          "execution_count": 40
        }
      ]
    },
    {
      "cell_type": "code",
      "metadata": {
        "id": "va15rgzmTWI0",
        "colab_type": "code",
        "outputId": "d2790903-7ec3-4d87-9c47-52d863f0eea2",
        "colab": {
          "base_uri": "https://localhost:8080/",
          "height": 34
        }
      },
      "source": [
        "import math\n",
        "math.factorial(5)"
      ],
      "execution_count": 0,
      "outputs": [
        {
          "output_type": "execute_result",
          "data": {
            "text/plain": [
              "120"
            ]
          },
          "metadata": {
            "tags": []
          },
          "execution_count": 41
        }
      ]
    },
    {
      "cell_type": "code",
      "metadata": {
        "id": "Zzve4OuUTfkm",
        "colab_type": "code",
        "outputId": "cbdd4a74-95c4-4999-c20e-7767d7a179d4",
        "colab": {
          "base_uri": "https://localhost:8080/",
          "height": 34
        }
      },
      "source": [
        "#Generate the random numbers between two limits\n",
        "import random\n",
        "def generaterandomnumbers(n,lb,ub):\n",
        "  for i in range(0,n):\n",
        "    print(random.randint(lb,ub),end=' ')\n",
        "  return\n",
        "generaterandomnumbers(10,12,120)"
      ],
      "execution_count": 0,
      "outputs": [
        {
          "output_type": "stream",
          "text": [
            "57 94 59 97 76 66 22 67 55 98 "
          ],
          "name": "stdout"
        }
      ]
    },
    {
      "cell_type": "markdown",
      "metadata": {
        "id": "iA8xyjK6gNWm",
        "colab_type": "text"
      },
      "source": [
        "1.Use math package -- Extract minimum of 10 functions\n",
        "\n",
        "2.Use random package -- Extract minimum of 10 functions"
      ]
    }
  ]
}